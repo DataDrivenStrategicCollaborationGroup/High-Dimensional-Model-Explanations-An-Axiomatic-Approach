{
 "cells": [
  {
   "cell_type": "code",
   "execution_count": 1,
   "metadata": {},
   "outputs": [],
   "source": [
    "import numpy as np \n",
    "import pandas as pd\n",
    "import matplotlib.pyplot as plt\n",
    "import pickle"
   ]
  },
  {
   "cell_type": "code",
   "execution_count": 2,
   "metadata": {},
   "outputs": [],
   "source": [
    "max_sentences = pd.read_pickle(\"max_sentences.pkl\")"
   ]
  },
  {
   "cell_type": "code",
   "execution_count": 3,
   "metadata": {},
   "outputs": [],
   "source": [
    "def plot_interaction_as_grid(example, interaction_values,prediction=None,extensionType=\"diagonal\"):\n",
    "    if len(interaction_values.shape) == 1:\n",
    "        interaction_values = extend_interaction_values(interaction_values,extensionType)\n",
    "    fig, ax = plt.subplots(figsize=(10,10))\n",
    "    abs_max = np.max(np.abs(interaction_values))\n",
    "    im = ax.imshow(interaction_values,vmin=-abs_max,vmax=abs_max,cmap=\"seismic\")\n",
    "\n",
    "    # We want to show all ticks...\n",
    "    ax.set_xticks(np.arange(len(example)))\n",
    "    ax.set_yticks(np.arange(len(example)))\n",
    "    # ... and label them with the respective list entries\n",
    "    ax.set_xticklabels(example)\n",
    "    ax.set_yticklabels(example)\n",
    "\n",
    "    # Rotate the tick labels and set their alignment.\n",
    "    plt.setp(ax.get_xticklabels(), rotation=45, ha=\"right\",\n",
    "             rotation_mode=\"anchor\")\n",
    "\n",
    "    # Loop over data dimensions and create text annotations.\n",
    "    for i in range(len(example)):\n",
    "        for j in range(i,len(example)):\n",
    "            text = ax.text(j, i, \"{:.2f}\".format(interaction_values[i, j]),\n",
    "                           ha=\"center\", va=\"center\", color=\"k\")\n",
    "\n",
    "    fig.tight_layout()\n",
    "    # Create colorbar\n",
    "    cbar = ax.figure.colorbar(im, ax=ax)\n",
    "    #cbar.ax.set_ylabel(cbarlabel, rotation=-90, va=\"bottom\")\n",
    "    if prediction is not None:\n",
    "        ax.set_title(\"Prediction : {:.2f}\".format(prediction))\n",
    "    plt.show()\n",
    "\n",
    "def extend_interaction_values(linear_values,extensionType):\n",
    "    if extensionType == \"diagonal\":\n",
    "        return transform_linear_values_to_diagonal(linear_values)\n",
    "    else:\n",
    "        return extend_linear_values_with_diagonal(linear_values)\n",
    "    \n",
    "def extend_linear_values_with_diagonal(linear_values):\n",
    "    extension = np.zeros([linear_values.shape[0],linear_values.shape[0]])\n",
    "    for i,feature_1 in enumerate(linear_values):\n",
    "        extension[i,i] = feature_1\n",
    "        for j, feature_2 in enumerate(linear_values[i+1:]):\n",
    "            extension[i,i+1+j] = feature_1 + feature_2\n",
    "    return extension\n",
    "\n",
    "def transform_linear_values_to_diagonal(linear_values):\n",
    "    extension = np.zeros([linear_values.shape[0],linear_values.shape[0]])\n",
    "    for i,feature in enumerate(linear_values):\n",
    "        extension[i,i] = feature\n",
    "    return extension"
   ]
  },
  {
   "cell_type": "code",
   "execution_count": 4,
   "metadata": {},
   "outputs": [],
   "source": [
    "def plot_interaction_as_bar(example, interaction_values,prediction=None,extensionType=\"diagonal\",k=5):\n",
    "    if len(interaction_values.shape) == 1:\n",
    "        interaction_values = extend_interaction_values(interaction_values,extensionType)\n",
    "    fig, ax = plt.subplots(figsize=(10,10))\n",
    "    values, labels = get_top_k_interactions(example, interaction_values,k=k)\n",
    "    barlist= plt.barh(labels[::-1], values[::-1])\n",
    "    abs_max = np.max(np.abs(interaction_values))\n",
    "    c_map = plt.cm.get_cmap(\"seismic\")\n",
    "    for i,value in enumerate(values[::-1]):\n",
    "        barlist[i].set_color(c_map((value+abs_max)/(2*abs_max)))\n",
    "    \n",
    "def get_top_k_interactions(example, interaction_values,k=5):\n",
    "    number_featuers = interaction_values.shape[0]\n",
    "    order = np.argsort(-np.abs(interaction_values.flatten()))[:k]\n",
    "    values, labels = [], []\n",
    "    for postion in order:\n",
    "        row = int(postion / number_featuers)\n",
    "        column =  postion % number_featuers\n",
    "        if row == column:\n",
    "            label = example[row]\n",
    "        else:\n",
    "            label = \"({},{})\".format(example[row],example[column])\n",
    "        value = interaction_values[row,column]\n",
    "        values.append(value)\n",
    "        labels.append(label)\n",
    "    return values,labels"
   ]
  },
  {
   "cell_type": "code",
   "execution_count": 5,
   "metadata": {},
   "outputs": [
    {
     "data": {
      "text/html": [
       "<div>\n",
       "<style scoped>\n",
       "    .dataframe tbody tr th:only-of-type {\n",
       "        vertical-align: middle;\n",
       "    }\n",
       "\n",
       "    .dataframe tbody tr th {\n",
       "        vertical-align: top;\n",
       "    }\n",
       "\n",
       "    .dataframe thead th {\n",
       "        text-align: right;\n",
       "    }\n",
       "</style>\n",
       "<table border=\"1\" class=\"dataframe\">\n",
       "  <thead>\n",
       "    <tr style=\"text-align: right;\">\n",
       "      <th></th>\n",
       "      <th>label</th>\n",
       "      <th>text</th>\n",
       "      <th>before_max_sentence</th>\n",
       "      <th>after_max_sentence</th>\n",
       "      <th>predictions</th>\n",
       "      <th>predictions_for_complete_reviews</th>\n",
       "      <th>split</th>\n",
       "      <th>values</th>\n",
       "      <th>lime_values</th>\n",
       "    </tr>\n",
       "  </thead>\n",
       "  <tbody>\n",
       "    <tr>\n",
       "      <th>1</th>\n",
       "      <td>1</td>\n",
       "      <td>Tommy Boy is a classic and we will always rem...</td>\n",
       "      <td>For only doing a few movies with his life the ...</td>\n",
       "      <td>From appearing on Saturday NIGHT LIVE to doin...</td>\n",
       "      <td>0.997408</td>\n",
       "      <td>0.472429</td>\n",
       "      <td>[, Tommy, Boy, is, a, classic, and, we, will, ...</td>\n",
       "      <td>[[0.0, 0.0, 0.0, 0.0, 0.0, 0.0, 0.0, 0.0, 0.0,...</td>\n",
       "      <td>[0.0, -0.08576353786022274, 0.0178258122713257...</td>\n",
       "    </tr>\n",
       "    <tr>\n",
       "      <th>4</th>\n",
       "      <td>1</td>\n",
       "      <td>Has big-studio feel, understands the horror g...</td>\n",
       "      <td>Remarkably well done, but under-recognized bec...</td>\n",
       "      <td>Could have been a college cult classic, if it...</td>\n",
       "      <td>0.995216</td>\n",
       "      <td>0.477980</td>\n",
       "      <td>[, Has, big-studio, feel,, understands, the, h...</td>\n",
       "      <td>[[0.0, 0.0, 0.0, 0.0, 0.0, 0.0, 0.0, 0.0, 0.0,...</td>\n",
       "      <td>[0.0, 0.028606192079107282, 0.1150472561553019...</td>\n",
       "    </tr>\n",
       "    <tr>\n",
       "      <th>16</th>\n",
       "      <td>1</td>\n",
       "      <td>The story took such twist &amp; turns that made i...</td>\n",
       "      <td>Nurse Betty was definitely one of the most cre...</td>\n",
       "      <td>If you're sick of the recent formula movies, ...</td>\n",
       "      <td>0.997445</td>\n",
       "      <td>0.454467</td>\n",
       "      <td>[, The, story, took, such, twist, &amp;, turns, th...</td>\n",
       "      <td>[[0.0, 0.0, 0.0, 0.0, 0.0, 0.0, 0.0, 0.0, 0.0,...</td>\n",
       "      <td>[0.0, -0.07168330955494903, 0.2043593997256307...</td>\n",
       "    </tr>\n",
       "    <tr>\n",
       "      <th>18</th>\n",
       "      <td>0</td>\n",
       "      <td>Monotonous murky drama with an endless drone ...</td>\n",
       "      <td>Looking all of 29 years old, Rob Lowe is a det...</td>\n",
       "      <td>This is a good substitute sleeping remedy if y...</td>\n",
       "      <td>0.142212</td>\n",
       "      <td>0.456349</td>\n",
       "      <td>[, Monotonous, murky, drama, with, an, endless...</td>\n",
       "      <td>[[0.0, 0.0, 0.0, 0.0, 0.0, 0.0, 0.0, 0.0, 0.0,...</td>\n",
       "      <td>[0.0, -3.2674440778638187, 1.1687928750633805,...</td>\n",
       "    </tr>\n",
       "    <tr>\n",
       "      <th>32</th>\n",
       "      <td>1</td>\n",
       "      <td>The Cormen B-movie style is all over this pup...</td>\n",
       "      <td>Black Scorpion is Roger Cormen's Batman  Which...</td>\n",
       "      <td>There are plenty of stunts and hot babes to m...</td>\n",
       "      <td>0.425229</td>\n",
       "      <td>0.440325</td>\n",
       "      <td>[, The, Cormen, B-movie, style, is, all, over,...</td>\n",
       "      <td>[[0.0, 0.0, 0.0, 0.0, 0.0, 0.0, 0.0, 0.0, 0.0,...</td>\n",
       "      <td>[0.0, 0.16820630387994906, -0.0550705096866509...</td>\n",
       "    </tr>\n",
       "    <tr>\n",
       "      <th>...</th>\n",
       "      <td>...</td>\n",
       "      <td>...</td>\n",
       "      <td>...</td>\n",
       "      <td>...</td>\n",
       "      <td>...</td>\n",
       "      <td>...</td>\n",
       "      <td>...</td>\n",
       "      <td>...</td>\n",
       "      <td>...</td>\n",
       "    </tr>\n",
       "    <tr>\n",
       "      <th>12479</th>\n",
       "      <td>0</td>\n",
       "      <td>Their was hardly any action at all and the ch...</td>\n",
       "      <td>I was actually looking forward to this movie  ...</td>\n",
       "      <td>The only saving grace was Omar Epps and even ...</td>\n",
       "      <td>0.001675</td>\n",
       "      <td>0.473864</td>\n",
       "      <td>[, Their, was, hardly, any, action, at, all, a...</td>\n",
       "      <td>None</td>\n",
       "      <td>None</td>\n",
       "    </tr>\n",
       "    <tr>\n",
       "      <th>12481</th>\n",
       "      <td>0</td>\n",
       "      <td>This Movie Was In My Opinion Very Ignorant! Th...</td>\n",
       "      <td></td>\n",
       "      <td>The Police Procedure Was Unrealistic  The Car...</td>\n",
       "      <td>0.002929</td>\n",
       "      <td>0.457114</td>\n",
       "      <td>[This, Movie, Was, In, My, Opinion, Very, Igno...</td>\n",
       "      <td>None</td>\n",
       "      <td>None</td>\n",
       "    </tr>\n",
       "    <tr>\n",
       "      <th>12482</th>\n",
       "      <td>1</td>\n",
       "      <td>It is one movie that you MUST see or you have ...</td>\n",
       "      <td>Certainly this proves beyond a shadow of doubt...</td>\n",
       "      <td>I rank it 58 in the top 100 films of all time...</td>\n",
       "      <td>0.997814</td>\n",
       "      <td>0.448931</td>\n",
       "      <td>[It, is, one, movie, that, you, MUST, see, or,...</td>\n",
       "      <td>None</td>\n",
       "      <td>None</td>\n",
       "    </tr>\n",
       "    <tr>\n",
       "      <th>12488</th>\n",
       "      <td>1</td>\n",
       "      <td>Good Effects and Acting make this movie a mus...</td>\n",
       "      <td>Critters 4 is a good movie  A bit of a twist t...</td>\n",
       "      <td>I would recommend this to Horror/Science Fict...</td>\n",
       "      <td>0.996549</td>\n",
       "      <td>0.444415</td>\n",
       "      <td>[, Good, Effects, and, Acting, make, this, mov...</td>\n",
       "      <td>None</td>\n",
       "      <td>None</td>\n",
       "    </tr>\n",
       "    <tr>\n",
       "      <th>12494</th>\n",
       "      <td>0</td>\n",
       "      <td>This feels very stilted and patronizing to a g...</td>\n",
       "      <td></td>\n",
       "      <td>The whole plot is extremely forced - especial...</td>\n",
       "      <td>0.004366</td>\n",
       "      <td>0.433360</td>\n",
       "      <td>[This, feels, very, stilted, and, patronizing,...</td>\n",
       "      <td>None</td>\n",
       "      <td>None</td>\n",
       "    </tr>\n",
       "  </tbody>\n",
       "</table>\n",
       "<p>2540 rows × 9 columns</p>\n",
       "</div>"
      ],
      "text/plain": [
       "       label                                               text  \\\n",
       "1          1   Tommy Boy is a classic and we will always rem...   \n",
       "4          1   Has big-studio feel, understands the horror g...   \n",
       "16         1   The story took such twist & turns that made i...   \n",
       "18         0   Monotonous murky drama with an endless drone ...   \n",
       "32         1   The Cormen B-movie style is all over this pup...   \n",
       "...      ...                                                ...   \n",
       "12479      0   Their was hardly any action at all and the ch...   \n",
       "12481      0  This Movie Was In My Opinion Very Ignorant! Th...   \n",
       "12482      1  It is one movie that you MUST see or you have ...   \n",
       "12488      1   Good Effects and Acting make this movie a mus...   \n",
       "12494      0  This feels very stilted and patronizing to a g...   \n",
       "\n",
       "                                     before_max_sentence  \\\n",
       "1      For only doing a few movies with his life the ...   \n",
       "4      Remarkably well done, but under-recognized bec...   \n",
       "16     Nurse Betty was definitely one of the most cre...   \n",
       "18     Looking all of 29 years old, Rob Lowe is a det...   \n",
       "32     Black Scorpion is Roger Cormen's Batman  Which...   \n",
       "...                                                  ...   \n",
       "12479  I was actually looking forward to this movie  ...   \n",
       "12481                                                      \n",
       "12482  Certainly this proves beyond a shadow of doubt...   \n",
       "12488  Critters 4 is a good movie  A bit of a twist t...   \n",
       "12494                                                      \n",
       "\n",
       "                                      after_max_sentence  predictions  \\\n",
       "1       From appearing on Saturday NIGHT LIVE to doin...     0.997408   \n",
       "4       Could have been a college cult classic, if it...     0.995216   \n",
       "16      If you're sick of the recent formula movies, ...     0.997445   \n",
       "18     This is a good substitute sleeping remedy if y...     0.142212   \n",
       "32      There are plenty of stunts and hot babes to m...     0.425229   \n",
       "...                                                  ...          ...   \n",
       "12479   The only saving grace was Omar Epps and even ...     0.001675   \n",
       "12481   The Police Procedure Was Unrealistic  The Car...     0.002929   \n",
       "12482   I rank it 58 in the top 100 films of all time...     0.997814   \n",
       "12488   I would recommend this to Horror/Science Fict...     0.996549   \n",
       "12494   The whole plot is extremely forced - especial...     0.004366   \n",
       "\n",
       "       predictions_for_complete_reviews  \\\n",
       "1                              0.472429   \n",
       "4                              0.477980   \n",
       "16                             0.454467   \n",
       "18                             0.456349   \n",
       "32                             0.440325   \n",
       "...                                 ...   \n",
       "12479                          0.473864   \n",
       "12481                          0.457114   \n",
       "12482                          0.448931   \n",
       "12488                          0.444415   \n",
       "12494                          0.433360   \n",
       "\n",
       "                                                   split  \\\n",
       "1      [, Tommy, Boy, is, a, classic, and, we, will, ...   \n",
       "4      [, Has, big-studio, feel,, understands, the, h...   \n",
       "16     [, The, story, took, such, twist, &, turns, th...   \n",
       "18     [, Monotonous, murky, drama, with, an, endless...   \n",
       "32     [, The, Cormen, B-movie, style, is, all, over,...   \n",
       "...                                                  ...   \n",
       "12479  [, Their, was, hardly, any, action, at, all, a...   \n",
       "12481  [This, Movie, Was, In, My, Opinion, Very, Igno...   \n",
       "12482  [It, is, one, movie, that, you, MUST, see, or,...   \n",
       "12488  [, Good, Effects, and, Acting, make, this, mov...   \n",
       "12494  [This, feels, very, stilted, and, patronizing,...   \n",
       "\n",
       "                                                  values  \\\n",
       "1      [[0.0, 0.0, 0.0, 0.0, 0.0, 0.0, 0.0, 0.0, 0.0,...   \n",
       "4      [[0.0, 0.0, 0.0, 0.0, 0.0, 0.0, 0.0, 0.0, 0.0,...   \n",
       "16     [[0.0, 0.0, 0.0, 0.0, 0.0, 0.0, 0.0, 0.0, 0.0,...   \n",
       "18     [[0.0, 0.0, 0.0, 0.0, 0.0, 0.0, 0.0, 0.0, 0.0,...   \n",
       "32     [[0.0, 0.0, 0.0, 0.0, 0.0, 0.0, 0.0, 0.0, 0.0,...   \n",
       "...                                                  ...   \n",
       "12479                                               None   \n",
       "12481                                               None   \n",
       "12482                                               None   \n",
       "12488                                               None   \n",
       "12494                                               None   \n",
       "\n",
       "                                             lime_values  \n",
       "1      [0.0, -0.08576353786022274, 0.0178258122713257...  \n",
       "4      [0.0, 0.028606192079107282, 0.1150472561553019...  \n",
       "16     [0.0, -0.07168330955494903, 0.2043593997256307...  \n",
       "18     [0.0, -3.2674440778638187, 1.1687928750633805,...  \n",
       "32     [0.0, 0.16820630387994906, -0.0550705096866509...  \n",
       "...                                                  ...  \n",
       "12479                                               None  \n",
       "12481                                               None  \n",
       "12482                                               None  \n",
       "12488                                               None  \n",
       "12494                                               None  \n",
       "\n",
       "[2540 rows x 9 columns]"
      ]
     },
     "execution_count": 5,
     "metadata": {},
     "output_type": "execute_result"
    }
   ],
   "source": [
    "max_sentences"
   ]
  },
  {
   "cell_type": "code",
   "execution_count": 6,
   "metadata": {},
   "outputs": [
    {
     "data": {
      "text/plain": [
       "\" It isn't the greatest scifi flick I've every seen, but it is not a bad movie\""
      ]
     },
     "execution_count": 6,
     "metadata": {},
     "output_type": "execute_result"
    }
   ],
   "source": [
    "#Numbers of sentences used in the paper\n",
    "#977 - \" It isn't the greatest scifi flick I've every seen, but it is not a bad movie\" - Example in introduction Figure 2, Figure 3\n",
    "#Examples in the appendix\n",
    "# 283, 322, 865, 877, 76\n",
    "number = 977\n",
    "max_sentences[\"text\"].iloc[number] "
   ]
  },
  {
   "cell_type": "code",
   "execution_count": 7,
   "metadata": {},
   "outputs": [
    {
     "data": {
      "image/png": "[encoded data removed]",
      "text/plain": [
       "<Figure size 720x720 with 2 Axes>"
      ]
     },
     "metadata": {
      "needs_background": "light"
     },
     "output_type": "display_data"
    }
   ],
   "source": [
    "plot_interaction_as_grid(max_sentences[\"split\"].iloc[number],\n",
    "                         max_sentences[\"values\"].iloc[number],\n",
    "                         prediction=max_sentences[\"predictions\"].iloc[number])"
   ]
  },
  {
   "cell_type": "code",
   "execution_count": 8,
   "metadata": {},
   "outputs": [
    {
     "data": {
      "image/png": "[encoded data removed]",
      "text/plain": [
       "<Figure size 720x720 with 1 Axes>"
      ]
     },
     "metadata": {
      "needs_background": "light"
     },
     "output_type": "display_data"
    }
   ],
   "source": [
    "plot_interaction_as_bar(max_sentences[\"split\"].iloc[number], \n",
    "                        max_sentences[\"lime_values\"].iloc[number], #Lime values\n",
    "                        prediction=max_sentences[\"predictions\"].iloc[number],\n",
    "                        extensionType=\"diagonal\",\n",
    "                        k=5)"
   ]
  },
  {
   "cell_type": "markdown",
   "metadata": {},
   "source": [
    "## Some helper functions to create the pdfplots in latex"
   ]
  },
  {
   "cell_type": "code",
   "execution_count": 305,
   "metadata": {},
   "outputs": [
    {
     "name": "stdout",
     "output_type": "stream",
     "text": [
      "\\def\\values{{\n",
      "{-0.17, 0.11, 0.25, 0.03, 0.24, 0.03, -0.01, -0.05, -0.15, -0.28, },\n",
      "{0.00, 0.04, -0.07, 0.13, -0.09, -0.13, -0.03, 0.19, 0.08, -0.05, },\n",
      "{0.00, 0.00, 0.19, -0.02, 0.22, -0.44, 0.02, 0.06, 0.11, -0.16, },\n",
      "{0.00, 0.00, 0.00, -0.08, 0.29, -0.06, -0.11, -0.08, -0.09, -0.04, },\n",
      "{0.00, 0.00, 0.00, 0.00, -0.21, 0.05, -0.05, -0.02, 0.00, 0.01, },\n",
      "{0.00, 0.00, 0.00, 0.00, 0.00, -0.51, 0.23, -0.04, -0.26, 0.21, },\n",
      "{0.00, 0.00, 0.00, 0.00, 0.00, 0.00, -0.61, 0.03, -0.15, 0.37, },\n",
      "{0.00, 0.00, 0.00, 0.00, 0.00, 0.00, 0.00, 0.12, 0.16, 0.06, },\n",
      "{0.00, 0.00, 0.00, 0.00, 0.00, 0.00, 0.00, 0.00, 0.30, 1.00, },\n",
      "{0.00, 0.00, 0.00, 0.00, 0.00, 0.00, 0.00, 0.00, 0.00, -0.37, },\n",
      "}}\n",
      "11\n"
     ]
    }
   ],
   "source": [
    "##\n",
    "harvest = max_sentences[\"values\"].iloc[number]\n",
    "harvest = harvest/np.max(np.abs(harvest))\n",
    "print(\"\\def\\\\values{{\")\n",
    "for row in harvest[1:,1:]:\n",
    "    print(\"{\", end=\"\")\n",
    "    for entry in row:\n",
    "        print(\"{:.2f}\".format(entry),end=\", \")\n",
    "    print(\"},\")\n",
    "print(\"}}\")\n",
    "print(len(harvest))"
   ]
  },
  {
   "cell_type": "code",
   "execution_count": 306,
   "metadata": {},
   "outputs": [
    {
     "name": "stdout",
     "output_type": "stream",
     "text": [
      "\"\", \"However\", \"for\", \"a\", \"low\", \"cost\", \"B-Series\", \"movie\", \"it's\", \"not\", \"bad\", "
     ]
    }
   ],
   "source": [
    "for word in max_sentences[\"split\"].iloc[number]:\n",
    "    print(\"\\\"{}\\\"\".format(word),end=\", \")"
   ]
  },
  {
   "cell_type": "code",
   "execution_count": 309,
   "metadata": {},
   "outputs": [],
   "source": [
    "def lime_for_paper(example, interaction_values,prediction=None,extensionType=\"diagonal\",k=5):\n",
    "    if len(interaction_values.shape) == 1:\n",
    "        interaction_values = extend_interaction_values(interaction_values,extensionType)\n",
    "    values, labels = get_top_k_interactions(example, interaction_values,k=k)\n",
    "    max_v = np.max(np.abs(values))\n",
    "    barlist= plt.barh(labels[::-1], values[::-1])\n",
    "    print(\"\\draw (axis cs:0,{}) -- (axis cs:0,{});\".format(labels[0],labels[-1]))\n",
    "    for label, value in zip(labels[::-1],values[::-1]):\n",
    "        print(\"\\\\addplot[cellColor={},forget plot,text  =black] coordinates {}({},{}){};\".format(int(1000*((value+max_v)/(2*max_v))),\"{\",value,label,\"}\"))\n",
    "    for label, value in zip(labels[::-1],values[::-1]):\n",
    "        print(\"{},\".format(label),end=\" \")"
   ]
  },
  {
   "cell_type": "code",
   "execution_count": 316,
   "metadata": {},
   "outputs": [
    {
     "name": "stdout",
     "output_type": "stream",
     "text": [
      "\\draw (axis cs:0,little) -- (axis cs:0,had);\n",
      "\\addplot[cellColor=412,forget plot,text  =black] coordinates {(-0.26943514077122427,had)};\n",
      "\\addplot[cellColor=396,forget plot,text  =black] coordinates {(-0.31880249087065116,was)};\n",
      "\\addplot[cellColor=337,forget plot,text  =black] coordinates {(-0.5019748598691895,effects)};\n",
      "\\addplot[cellColor=141,forget plot,text  =black] coordinates {(-1.106545264946068,horrible)};\n",
      "\\addplot[cellColor=0,forget plot,text  =black] coordinates {(-1.5445578475025283,little)};\n",
      "had, was, effects, horrible, little, "
     ]
    },
    {
     "data": {
      "image/png": "[encoded data removed]",
      "text/plain": [
       "<Figure size 432x288 with 1 Axes>"
      ]
     },
     "metadata": {
      "needs_background": "light"
     },
     "output_type": "display_data"
    }
   ],
   "source": [
    "#977,877,283,865,322,76\n",
    "number =322\n",
    "lime_for_paper(max_sentences[\"split\"].iloc[number], \n",
    "                        max_sentences[\"lime_values\"].iloc[number], #Lime values\n",
    "                        prediction=max_sentences[\"predictions\"].iloc[number],\n",
    "                        extensionType=\"diagonal\",\n",
    "                        k=5)"
   ]
  },
  {
   "cell_type": "code",
   "execution_count": null,
   "metadata": {},
   "outputs": [],
   "source": []
  }
 ],
 "metadata": {
  "kernelspec": {
   "display_name": "BII2",
   "language": "python",
   "name": "bii2"
  },
  "language_info": {
   "codemirror_mode": {
    "name": "ipython",
    "version": 3
   },
   "file_extension": ".py",
   "mimetype": "text/x-python",
   "name": "python",
   "nbconvert_exporter": "python",
   "pygments_lexer": "ipython3",
   "version": "3.6.12"
  }
 },
 "nbformat": 4,
 "nbformat_minor": 4
}
