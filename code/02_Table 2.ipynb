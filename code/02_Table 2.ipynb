{
 "cells": [
  {
   "cell_type": "code",
   "execution_count": 1,
   "metadata": {},
   "outputs": [],
   "source": [
    "%load_ext autoreload\n",
    "%autoreload 2\n",
    "import numpy as np \n",
    "import pandas as pd\n",
    "from sklearn.ensemble import RandomForestClassifier\n",
    "from sklearn.preprocessing import OneHotEncoder\n",
    "import matplotlib.pyplot as plt\n",
    "from scipy.stats import mode\n",
    "from scipy.special import binom\n",
    "from sklearn.metrics.pairwise import cosine_similarity\n",
    "from time import time\n",
    "import BII"
   ]
  },
  {
   "cell_type": "markdown",
   "metadata": {},
   "source": [
    "# 1 Preprocess data"
   ]
  },
  {
   "cell_type": "markdown",
   "metadata": {},
   "source": [
    "We are using the well known adult dataset."
   ]
  },
  {
   "cell_type": "code",
   "execution_count": 2,
   "metadata": {},
   "outputs": [],
   "source": [
    "train = pd.read_csv(\"../data/adult/adult.data\",header=None)\n",
    "test  = pd.read_csv(\"../data/adult/adult.test\",header=None) \n",
    "columns = [\"Age\", \"workclass\", \"fnlwgt\", \"education\",\"education-num\",\"marital-status\", \"occupation\"\n",
    "           ,\"relationship\", \"race\",\"sex\",\"capital-gain\",\"capital-loss\", \"hours-per-week\", \"native-country\", \"label\"]\n",
    "cat_columns = [\"workclass\", \"education\", \"marital-status\", \"occupation\"\n",
    "           ,\"relationship\", \"race\",\"sex\", \"native-country\", \"label\"]\n",
    "cont_colums = [col for col in columns if col not in cat_columns]\n",
    "train.columns, test.columns = columns, columns\n",
    "#Dropping fnlwgt as it's not an actual feature but a weighting factor\n",
    "train.drop(\"fnlwgt\", axis=1, inplace=True)\n",
    "test.drop(\"fnlwgt\", axis=1, inplace=True)\n",
    "columns.remove(\"fnlwgt\")\n",
    "cont_colums.remove(\"fnlwgt\")"
   ]
  },
  {
   "cell_type": "markdown",
   "metadata": {},
   "source": [
    "We encode the categorical variables"
   ]
  },
  {
   "cell_type": "code",
   "execution_count": 3,
   "metadata": {},
   "outputs": [],
   "source": [
    "encoders = {}\n",
    "train_transformed, test_transformed = pd.DataFrame(), pd.DataFrame()\n",
    "for category in cat_columns:\n",
    "    if category == \"label\":\n",
    "        train_transformed[category] = train[category]\n",
    "        test_transformed[category] = test[category]\n",
    "        continue\n",
    "    if category == \"education\":\n",
    "        continue;\n",
    "    encoder = OneHotEncoder()\n",
    "    encoder.fit(np.asarray(train[category]).reshape(-1, 1))\n",
    "    encoders[category] = encoder\n",
    "    transformed_featue_train = pd.get_dummies(train[category],prefix=category)\n",
    "    transformed_featue_test = pd.get_dummies(test[category],prefix=category)\n",
    "    for column in transformed_featue_train.columns:\n",
    "        train_transformed[column] = transformed_featue_train[column]\n",
    "        try:\n",
    "            test_transformed[column] = transformed_featue_test[column]\n",
    "        except :\n",
    "            test_transformed[column] = np.zeros(len(test_transformed))\n",
    "for category in cont_colums:\n",
    "    train_transformed[category] = train[category]\n",
    "    test_transformed[category] = test[category]\n",
    "# We treat education slightly differently as it is already encoded in \"education-num\", so we just use this encoding\n",
    "#(it is ordered with respect to the level of education, while LabelEncoders are lexicographic) \n",
    "# The right way would be to drop the column but we leave it to show some axiomatic properties\n",
    "train_transformed[\"education\"] = train_transformed[\"education-num\"]\n",
    "test_transformed[\"education\"] = test_transformed[\"education-num\"]\n",
    "cont_colums.append(\"education\")\n",
    "cat_columns.remove(\"education\")"
   ]
  },
  {
   "cell_type": "code",
   "execution_count": 4,
   "metadata": {},
   "outputs": [],
   "source": [
    "x_train, y_train = train_transformed.loc[:, train_transformed.columns != 'label'], train_transformed[\"label\"]\n",
    "x_test,  y_test  = test_transformed.loc[:, test_transformed.columns != 'label'], test_transformed[\"label\"]\n",
    "cat_columns.remove(\"label\")\n",
    "columns = [col for col in columns if col != \"label\"]\n",
    "reordered_test = test[cont_colums + cat_columns]"
   ]
  },
  {
   "cell_type": "code",
   "execution_count": 5,
   "metadata": {},
   "outputs": [
    {
     "data": {
      "text/plain": [
       "['marital-status_ Divorced',\n",
       " 'marital-status_ Married-AF-spouse',\n",
       " 'marital-status_ Married-civ-spouse',\n",
       " 'marital-status_ Married-spouse-absent',\n",
       " 'marital-status_ Never-married',\n",
       " 'marital-status_ Separated',\n",
       " 'marital-status_ Widowed']"
      ]
     },
     "execution_count": 5,
     "metadata": {},
     "output_type": "execute_result"
    }
   ],
   "source": [
    "[c for c in x_train.columns if \"marital\" in c]"
   ]
  },
  {
   "cell_type": "markdown",
   "metadata": {},
   "source": [
    "# 2 Train baseline classifier"
   ]
  },
  {
   "cell_type": "markdown",
   "metadata": {},
   "source": [
    "For this table we trained a random forrest classifier"
   ]
  },
  {
   "cell_type": "code",
   "execution_count": 6,
   "metadata": {},
   "outputs": [],
   "source": [
    "clf = RandomForestClassifier(max_depth=10, n_estimators=50)\n",
    "clf = clf.fit(x_train, y_train)"
   ]
  },
  {
   "cell_type": "code",
   "execution_count": 7,
   "metadata": {},
   "outputs": [
    {
     "data": {
      "text/plain": [
       "(0.8626884923681705, 0.8589767213316135)"
      ]
     },
     "execution_count": 7,
     "metadata": {},
     "output_type": "execute_result"
    }
   ],
   "source": [
    "clf.score(x_train, y_train), clf.score(x_test,  y_test)"
   ]
  },
  {
   "cell_type": "code",
   "execution_count": 8,
   "metadata": {},
   "outputs": [],
   "source": [
    "baseline = pd.DataFrame(data=np.zeros([1,len(x_train.columns)]),columns= x_train.columns)\n",
    "for category in cont_colums:\n",
    "    baseline[category] = np.median(x_train[category])"
   ]
  },
  {
   "cell_type": "code",
   "execution_count": 9,
   "metadata": {},
   "outputs": [
    {
     "data": {
      "text/html": [
       "<div>\n",
       "<style scoped>\n",
       "    .dataframe tbody tr th:only-of-type {\n",
       "        vertical-align: middle;\n",
       "    }\n",
       "\n",
       "    .dataframe tbody tr th {\n",
       "        vertical-align: top;\n",
       "    }\n",
       "\n",
       "    .dataframe thead th {\n",
       "        text-align: right;\n",
       "    }\n",
       "</style>\n",
       "<table border=\"1\" class=\"dataframe\">\n",
       "  <thead>\n",
       "    <tr style=\"text-align: right;\">\n",
       "      <th></th>\n",
       "      <th>workclass_ ?</th>\n",
       "      <th>workclass_ Federal-gov</th>\n",
       "      <th>workclass_ Local-gov</th>\n",
       "      <th>workclass_ Never-worked</th>\n",
       "      <th>workclass_ Private</th>\n",
       "      <th>workclass_ Self-emp-inc</th>\n",
       "      <th>workclass_ Self-emp-not-inc</th>\n",
       "      <th>workclass_ State-gov</th>\n",
       "      <th>workclass_ Without-pay</th>\n",
       "      <th>marital-status_ Divorced</th>\n",
       "      <th>...</th>\n",
       "      <th>native-country_ Trinadad&amp;Tobago</th>\n",
       "      <th>native-country_ United-States</th>\n",
       "      <th>native-country_ Vietnam</th>\n",
       "      <th>native-country_ Yugoslavia</th>\n",
       "      <th>Age</th>\n",
       "      <th>education-num</th>\n",
       "      <th>capital-gain</th>\n",
       "      <th>capital-loss</th>\n",
       "      <th>hours-per-week</th>\n",
       "      <th>education</th>\n",
       "    </tr>\n",
       "  </thead>\n",
       "  <tbody>\n",
       "    <tr>\n",
       "      <th>0</th>\n",
       "      <td>0.0</td>\n",
       "      <td>0.0</td>\n",
       "      <td>0.0</td>\n",
       "      <td>0.0</td>\n",
       "      <td>0.0</td>\n",
       "      <td>0.0</td>\n",
       "      <td>0.0</td>\n",
       "      <td>0.0</td>\n",
       "      <td>0.0</td>\n",
       "      <td>0.0</td>\n",
       "      <td>...</td>\n",
       "      <td>0.0</td>\n",
       "      <td>0.0</td>\n",
       "      <td>0.0</td>\n",
       "      <td>0.0</td>\n",
       "      <td>37.0</td>\n",
       "      <td>10.0</td>\n",
       "      <td>0.0</td>\n",
       "      <td>0.0</td>\n",
       "      <td>40.0</td>\n",
       "      <td>10.0</td>\n",
       "    </tr>\n",
       "  </tbody>\n",
       "</table>\n",
       "<p>1 rows × 92 columns</p>\n",
       "</div>"
      ],
      "text/plain": [
       "   workclass_ ?  workclass_ Federal-gov  workclass_ Local-gov  \\\n",
       "0           0.0                     0.0                   0.0   \n",
       "\n",
       "   workclass_ Never-worked  workclass_ Private  workclass_ Self-emp-inc  \\\n",
       "0                      0.0                 0.0                      0.0   \n",
       "\n",
       "   workclass_ Self-emp-not-inc  workclass_ State-gov  workclass_ Without-pay  \\\n",
       "0                          0.0                   0.0                     0.0   \n",
       "\n",
       "   marital-status_ Divorced  ...  native-country_ Trinadad&Tobago  \\\n",
       "0                       0.0  ...                              0.0   \n",
       "\n",
       "   native-country_ United-States  native-country_ Vietnam  \\\n",
       "0                            0.0                      0.0   \n",
       "\n",
       "   native-country_ Yugoslavia   Age  education-num  capital-gain  \\\n",
       "0                         0.0  37.0           10.0           0.0   \n",
       "\n",
       "   capital-loss  hours-per-week  education  \n",
       "0           0.0            40.0       10.0  \n",
       "\n",
       "[1 rows x 92 columns]"
      ]
     },
     "execution_count": 9,
     "metadata": {},
     "output_type": "execute_result"
    }
   ],
   "source": [
    "baseline"
   ]
  },
  {
   "cell_type": "code",
   "execution_count": 10,
   "metadata": {},
   "outputs": [],
   "source": [
    "b_clf = BII.BanzhafModel(clf, np.asarray(baseline))"
   ]
  },
  {
   "cell_type": "code",
   "execution_count": 11,
   "metadata": {},
   "outputs": [],
   "source": [
    "linear_points = np.arange(1,10000,10) "
   ]
  },
  {
   "cell_type": "code",
   "execution_count": 12,
   "metadata": {},
   "outputs": [
    {
     "data": {
      "text/html": [
       "<div>\n",
       "<style scoped>\n",
       "    .dataframe tbody tr th:only-of-type {\n",
       "        vertical-align: middle;\n",
       "    }\n",
       "\n",
       "    .dataframe tbody tr th {\n",
       "        vertical-align: top;\n",
       "    }\n",
       "\n",
       "    .dataframe thead th {\n",
       "        text-align: right;\n",
       "    }\n",
       "</style>\n",
       "<table border=\"1\" class=\"dataframe\">\n",
       "  <thead>\n",
       "    <tr style=\"text-align: right;\">\n",
       "      <th></th>\n",
       "      <th>Age</th>\n",
       "      <th>workclass</th>\n",
       "      <th>education</th>\n",
       "      <th>education-num</th>\n",
       "      <th>marital-status</th>\n",
       "      <th>occupation</th>\n",
       "      <th>relationship</th>\n",
       "      <th>race</th>\n",
       "      <th>sex</th>\n",
       "      <th>capital-gain</th>\n",
       "      <th>capital-loss</th>\n",
       "      <th>hours-per-week</th>\n",
       "      <th>native-country</th>\n",
       "      <th>label</th>\n",
       "    </tr>\n",
       "  </thead>\n",
       "  <tbody>\n",
       "    <tr>\n",
       "      <th>1</th>\n",
       "      <td>38</td>\n",
       "      <td>Private</td>\n",
       "      <td>HS-grad</td>\n",
       "      <td>9</td>\n",
       "      <td>Married-civ-spouse</td>\n",
       "      <td>Farming-fishing</td>\n",
       "      <td>Husband</td>\n",
       "      <td>White</td>\n",
       "      <td>Male</td>\n",
       "      <td>0</td>\n",
       "      <td>0</td>\n",
       "      <td>50</td>\n",
       "      <td>United-States</td>\n",
       "      <td>&lt;=50K</td>\n",
       "    </tr>\n",
       "    <tr>\n",
       "      <th>11</th>\n",
       "      <td>36</td>\n",
       "      <td>Federal-gov</td>\n",
       "      <td>Bachelors</td>\n",
       "      <td>13</td>\n",
       "      <td>Married-civ-spouse</td>\n",
       "      <td>Adm-clerical</td>\n",
       "      <td>Husband</td>\n",
       "      <td>White</td>\n",
       "      <td>Male</td>\n",
       "      <td>0</td>\n",
       "      <td>0</td>\n",
       "      <td>40</td>\n",
       "      <td>United-States</td>\n",
       "      <td>&lt;=50K</td>\n",
       "    </tr>\n",
       "    <tr>\n",
       "      <th>21</th>\n",
       "      <td>34</td>\n",
       "      <td>Private</td>\n",
       "      <td>Some-college</td>\n",
       "      <td>10</td>\n",
       "      <td>Never-married</td>\n",
       "      <td>Other-service</td>\n",
       "      <td>Own-child</td>\n",
       "      <td>Black</td>\n",
       "      <td>Female</td>\n",
       "      <td>0</td>\n",
       "      <td>0</td>\n",
       "      <td>35</td>\n",
       "      <td>United-States</td>\n",
       "      <td>&lt;=50K</td>\n",
       "    </tr>\n",
       "    <tr>\n",
       "      <th>31</th>\n",
       "      <td>56</td>\n",
       "      <td>Self-emp-not-inc</td>\n",
       "      <td>11th</td>\n",
       "      <td>7</td>\n",
       "      <td>Widowed</td>\n",
       "      <td>Other-service</td>\n",
       "      <td>Unmarried</td>\n",
       "      <td>White</td>\n",
       "      <td>Female</td>\n",
       "      <td>0</td>\n",
       "      <td>0</td>\n",
       "      <td>50</td>\n",
       "      <td>United-States</td>\n",
       "      <td>&lt;=50K</td>\n",
       "    </tr>\n",
       "    <tr>\n",
       "      <th>41</th>\n",
       "      <td>44</td>\n",
       "      <td>Self-emp-inc</td>\n",
       "      <td>Assoc-voc</td>\n",
       "      <td>11</td>\n",
       "      <td>Married-civ-spouse</td>\n",
       "      <td>Sales</td>\n",
       "      <td>Husband</td>\n",
       "      <td>White</td>\n",
       "      <td>Male</td>\n",
       "      <td>0</td>\n",
       "      <td>0</td>\n",
       "      <td>45</td>\n",
       "      <td>United-States</td>\n",
       "      <td>&gt;50K</td>\n",
       "    </tr>\n",
       "    <tr>\n",
       "      <th>...</th>\n",
       "      <td>...</td>\n",
       "      <td>...</td>\n",
       "      <td>...</td>\n",
       "      <td>...</td>\n",
       "      <td>...</td>\n",
       "      <td>...</td>\n",
       "      <td>...</td>\n",
       "      <td>...</td>\n",
       "      <td>...</td>\n",
       "      <td>...</td>\n",
       "      <td>...</td>\n",
       "      <td>...</td>\n",
       "      <td>...</td>\n",
       "      <td>...</td>\n",
       "    </tr>\n",
       "    <tr>\n",
       "      <th>9951</th>\n",
       "      <td>64</td>\n",
       "      <td>State-gov</td>\n",
       "      <td>Some-college</td>\n",
       "      <td>10</td>\n",
       "      <td>Divorced</td>\n",
       "      <td>Adm-clerical</td>\n",
       "      <td>Not-in-family</td>\n",
       "      <td>White</td>\n",
       "      <td>Female</td>\n",
       "      <td>0</td>\n",
       "      <td>0</td>\n",
       "      <td>40</td>\n",
       "      <td>United-States</td>\n",
       "      <td>&lt;=50K</td>\n",
       "    </tr>\n",
       "    <tr>\n",
       "      <th>9961</th>\n",
       "      <td>24</td>\n",
       "      <td>Private</td>\n",
       "      <td>Bachelors</td>\n",
       "      <td>13</td>\n",
       "      <td>Never-married</td>\n",
       "      <td>Sales</td>\n",
       "      <td>Own-child</td>\n",
       "      <td>Black</td>\n",
       "      <td>Female</td>\n",
       "      <td>0</td>\n",
       "      <td>0</td>\n",
       "      <td>40</td>\n",
       "      <td>United-States</td>\n",
       "      <td>&lt;=50K</td>\n",
       "    </tr>\n",
       "    <tr>\n",
       "      <th>9971</th>\n",
       "      <td>39</td>\n",
       "      <td>Self-emp-inc</td>\n",
       "      <td>Assoc-acdm</td>\n",
       "      <td>12</td>\n",
       "      <td>Married-civ-spouse</td>\n",
       "      <td>Exec-managerial</td>\n",
       "      <td>Husband</td>\n",
       "      <td>White</td>\n",
       "      <td>Male</td>\n",
       "      <td>0</td>\n",
       "      <td>0</td>\n",
       "      <td>45</td>\n",
       "      <td>United-States</td>\n",
       "      <td>&lt;=50K</td>\n",
       "    </tr>\n",
       "    <tr>\n",
       "      <th>9981</th>\n",
       "      <td>50</td>\n",
       "      <td>Self-emp-inc</td>\n",
       "      <td>Bachelors</td>\n",
       "      <td>13</td>\n",
       "      <td>Married-civ-spouse</td>\n",
       "      <td>Exec-managerial</td>\n",
       "      <td>Husband</td>\n",
       "      <td>White</td>\n",
       "      <td>Male</td>\n",
       "      <td>0</td>\n",
       "      <td>0</td>\n",
       "      <td>40</td>\n",
       "      <td>United-States</td>\n",
       "      <td>&gt;50K</td>\n",
       "    </tr>\n",
       "    <tr>\n",
       "      <th>9991</th>\n",
       "      <td>27</td>\n",
       "      <td>Private</td>\n",
       "      <td>12th</td>\n",
       "      <td>8</td>\n",
       "      <td>Never-married</td>\n",
       "      <td>Handlers-cleaners</td>\n",
       "      <td>Other-relative</td>\n",
       "      <td>White</td>\n",
       "      <td>Male</td>\n",
       "      <td>0</td>\n",
       "      <td>0</td>\n",
       "      <td>40</td>\n",
       "      <td>Mexico</td>\n",
       "      <td>&lt;=50K</td>\n",
       "    </tr>\n",
       "  </tbody>\n",
       "</table>\n",
       "<p>1000 rows × 14 columns</p>\n",
       "</div>"
      ],
      "text/plain": [
       "      Age          workclass      education  education-num  \\\n",
       "1      38            Private        HS-grad              9   \n",
       "11     36        Federal-gov      Bachelors             13   \n",
       "21     34            Private   Some-college             10   \n",
       "31     56   Self-emp-not-inc           11th              7   \n",
       "41     44       Self-emp-inc      Assoc-voc             11   \n",
       "...   ...                ...            ...            ...   \n",
       "9951   64          State-gov   Some-college             10   \n",
       "9961   24            Private      Bachelors             13   \n",
       "9971   39       Self-emp-inc     Assoc-acdm             12   \n",
       "9981   50       Self-emp-inc      Bachelors             13   \n",
       "9991   27            Private           12th              8   \n",
       "\n",
       "           marital-status          occupation     relationship    race  \\\n",
       "1      Married-civ-spouse     Farming-fishing          Husband   White   \n",
       "11     Married-civ-spouse        Adm-clerical          Husband   White   \n",
       "21          Never-married       Other-service        Own-child   Black   \n",
       "31                Widowed       Other-service        Unmarried   White   \n",
       "41     Married-civ-spouse               Sales          Husband   White   \n",
       "...                   ...                 ...              ...     ...   \n",
       "9951             Divorced        Adm-clerical    Not-in-family   White   \n",
       "9961        Never-married               Sales        Own-child   Black   \n",
       "9971   Married-civ-spouse     Exec-managerial          Husband   White   \n",
       "9981   Married-civ-spouse     Exec-managerial          Husband   White   \n",
       "9991        Never-married   Handlers-cleaners   Other-relative   White   \n",
       "\n",
       "          sex  capital-gain  capital-loss  hours-per-week  native-country  \\\n",
       "1        Male             0             0              50   United-States   \n",
       "11       Male             0             0              40   United-States   \n",
       "21     Female             0             0              35   United-States   \n",
       "31     Female             0             0              50   United-States   \n",
       "41       Male             0             0              45   United-States   \n",
       "...       ...           ...           ...             ...             ...   \n",
       "9951   Female             0             0              40   United-States   \n",
       "9961   Female             0             0              40   United-States   \n",
       "9971     Male             0             0              45   United-States   \n",
       "9981     Male             0             0              40   United-States   \n",
       "9991     Male             0             0              40          Mexico   \n",
       "\n",
       "       label  \n",
       "1      <=50K  \n",
       "11     <=50K  \n",
       "21     <=50K  \n",
       "31     <=50K  \n",
       "41      >50K  \n",
       "...      ...  \n",
       "9951   <=50K  \n",
       "9961   <=50K  \n",
       "9971   <=50K  \n",
       "9981    >50K  \n",
       "9991   <=50K  \n",
       "\n",
       "[1000 rows x 14 columns]"
      ]
     },
     "execution_count": 12,
     "metadata": {},
     "output_type": "execute_result"
    }
   ],
   "source": [
    "test.iloc[linear_points]"
   ]
  },
  {
   "cell_type": "code",
   "execution_count": 13,
   "metadata": {},
   "outputs": [],
   "source": [
    "onehot_columns = x_train.columns.to_list()"
   ]
  },
  {
   "cell_type": "code",
   "execution_count": 14,
   "metadata": {},
   "outputs": [],
   "source": [
    "reordered_test_merge = reordered_test.drop(\"education\",axis=1) "
   ]
  },
  {
   "cell_type": "markdown",
   "metadata": {},
   "source": [
    "## Binary explanations (Interactions)"
   ]
  },
  {
   "cell_type": "code",
   "execution_count": 15,
   "metadata": {},
   "outputs": [],
   "source": [
    "number_samples = 10000"
   ]
  },
  {
   "cell_type": "code",
   "execution_count": null,
   "metadata": {},
   "outputs": [
    {
     "name": "stdout",
     "output_type": "stream",
     "text": [
      "1, 11, 21, 31, 41, 51, 61, 71, 81, 91, 101, 111, 121, 131, 141, 151, 161, 171, 181, 191, 201, 211, 221, 231, 241, 251, 261, 271, 281, 291, 301, 311, 321, 331, 341, 351, 361, 371, 381, 391, 401, 411, 421, 431, 441, 451, 461, 471, 481, 491, 501, 511, 521, 531, 541, 551, 561, 571, 581, 591, 601, 611, 621, 631, 641, 651, 661, 671, 681, 691, 701, 711, 721, 731, 741, 751, 761, 771, 781, 791, 801, 811, 821, 831, 841, 851, 861, 871, 881, 891, 901, 911, 921, 931, 941, 951, 961, 971, 981, 991, 1001, 1011, 1021, 1031, 1041, 1051, 1061, 1071, 1081, 1091, 1101, 1111, 1121, 1131, 1141, 1151, 1161, 1171, 1181, 1191, 1201, 1211, 1221, 1231, 1241, 1251, 1261, 1271, 1281, 1291, 1301, 1311, 1321, 1331, 1341, 1351, 1361, 1371, 1381, 1391, 1401, 1411, 1421, 1431, 1441, 1451, 1461, 1471, 1481, 1491, 1501, 1511, 1521, 1531, 1541, 1551, 1561, 1571, 1581, 1591, 1601, 1611, 1621, 1631, 1641, 1651, 1661, 1671, 1681, 1691, 1701, 1711, 1721, 1731, 1741, 1751, 1761, 1771, 1781, 1791, 1801, 1811, 1821, 1831, 1841, 1851, 1861, 1871, 1881, 1891, 1901, 1911, 1921, 1931, 1941, 1951, 1961, 1971, 1981, 1991, 2001, 2011, 2021, 2031, 2041, 2051, 2061, 2071, 2081, 2091, 2101, 2111, 2121, 2131, 2141, 2151, 2161, 2171, 2181, 2191, 2201, 2211, 2221, 2231, 2241, 2251, 2261, 2271, 2281, 2291, 2301, 2311, 2321, 2331, 2341, 2351, 2361, 2371, 2381, 2391, 2401, 2411, 2421, 2431, 2441, 2451, 2461, 2471, 2481, 2491, 2501, 2511, 2521, 2531, 2541, 2551, 2561, 2571, 2581, 2591, 2601, 2611, 2621, 2631, 2641, 2651, 2661, 2671, 2681, 2691, 2701, 2711, 2721, 2731, 2741, 2751, 2761, 2771, 2781, 2791, 2801, 2811, 2821, 2831, 2841, 2851, 2861, 2871, 2881, 2891, 2901, 2911, 2921, 2931, 2941, 2951, 2961, 2971, 2981, 2991, 3001, 3011, 3021, 3031, 3041, 3051, 3061, 3071, 3081, 3091, 3101, 3111, 3121, 3131, 3141, 3151, 3161, 3171, 3181, 3191, 3201, 3211, 3221, 3231, 3241, 3251, 3261, 3271, 3281, 3291, 3301, 3311, 3321, 3331, 3341, 3351, 3361, 3371, 3381, 3391, 3401, 3411, 3421, 3431, 3441, 3451, 3461, 3471, 3481, 3491, 3501, 3511, 3521, 3531, 3541, 3551, 3561, 3571, 3581, 3591, 3601, 3611, 3621, 3631, 3641, 3651, 3661, 3671, 3681, 3691, 3701, 3711, 3721, 3731, 3741, 3751, 3761, 3771, 3781, 3791, 3801, 3811, 3821, 3831, 3841, 3851, 3861, 3871, 3881, 3891, 3901, 3911, 3921, 3931, 3941, 3951, 3961, 3971, 3981, 3991, 4001, 4011, 4021, 4031, 4041, 4051, 4061, 4071, 4081, 4091, 4101, 4111, 4121, 4131, 4141, 4151, 4161, 4171, 4181, 4191, 4201, 4211, 4221, 4231, 4241, 4251, 4261, 4271, 4281, 4291, 4301, 4311, 4321, 4331, 4341, 4351, 4361, 4371, 4381, 4391, 4401, 4411, 4421, 4431, 4441, 4451, 4461, 4471, 4481, 4491, 4501, 4511, 4521, 4531, 4541, 4551, 4561, 4571, 4581, 4591, 4601, 4611, 4621, 4631, 4641, 4651, 4661, 4671, 4681, 4691, 4701, 4711, 4721, 4731, 4741, 4751, 4761, 4771, 4781, 4791, 4801, 4811, 4821, 4831, 4841, 4851, 4861, 4871, 4881, 4891, 4901, 4911, 4921, 4931, 4941, 4951, 4961, 4971, 4981, 4991, 5001, 5011, 5021, 5031, 5041, 5051, 5061, 5071, 5081, 5091, 5101, 5111, 5121, 5131, 5141, 5151, 5161, 5171, 5181, 5191, 5201, 5211, 5221, 5231, 5241, 5251, 5261, 5271, 5281, 5291, 5301, 5311, 5321, 5331, 5341, 5351, 5361, 5371, 5381, 5391, 5401, 5411, 5421, 5431, 5441, 5451, 5461, 5471, 5481, 5491, 5501, 5511, 5521, 5531, 5541, 5551, 5561, 5571, 5581, 5591, 5601, 5611, 5621, 5631, 5641, 5651, 5661, 5671, 5681, 5691, 5701, 5711, 5721, 5731, 5741, 5751, 5761, 5771, 5781, 5791, 5801, 5811, 5821, 5831, 5841, 5851, 5861, 5871, 5881, 5891, 5901, 5911, 5921, 5931, 5941, 5951, 5961, 5971, 5981, 5991, 6001, 6011, 6021, 6031, 6041, 6051, 6061, 6071, 6081, 6091, 6101, 6111, 6121, 6131, 6141, 6151, 6161, 6171, 6181, 6191, 6201, 6211, 6221, 6231, 6241, 6251, 6261, 6271, 6281, 6291, 6301, 6311, 6321, 6331, 6341, 6351, 6361, 6371, 6381, 6391, 6401, 6411, 6421, 6431, 6441, 6451, 6461, 6471, 6481, 6491, 6501, 6511, 6521, 6531, 6541, 6551, 6561, 6571, 6581, 6591, 6601, 6611, 6621, 6631, 6641, 6651, 6661, 6671, 6681, 6691, 6701, 6711, 6721, 6731, 6741, 6751, 6761, 6771, 6781, 6791, 6801, 6811, 6821, 6831, 6841, 6851, 6861, 6871, 6881, 6891, 6901, 6911, 6921, 6931, 6941, 6951, 6961, 6971, 6981, 6991, 7001, 7011, 7021, 7031, 7041, 7051, 7061, 7071, 7081, 7091, 7101, 7111, 7121, 7131, 7141, 7151, 7161, 7171, 7181, 7191, 7201, 7211, 7221, 7231, 7241, 7251, 7261, 7271, 7281, 7291, 7301, 7311, 7321, 7331, 7341, 7351, 7361, 7371, 7381, 7391, 7401, 7411, 7421, 7431, 7441, 7451, 7461, 7471, 7481, 7491, 7501, 7511, 7521, 7531, 7541, 7551, 7561, 7571, 7581, 7591, 7601, 7611, 7621, 7631, 7641, 7651, 7661, 7671, 7681, 7691, 7701, 7711, 7721, 7731, 7741, 7751, 7761, 7771, 7781, 7791, 7801, 7811, 7821, 7831, 7841, 7851, 7861, 7871, 7881, 7891, 7901, 7911, 7921, 7931, 7941, 7951, 7961, 7971, 7981, 7991, 8001, 8011, 8021, 8031, 8041, 8051, 8061, 8071, 8081, 8091, 8101, 8111, 8121, 8131, 8141, 8151, 8161, 8171, 8181, 8191, 8201, 8211, 8221, 8231, 8241, 8251, 8261, 8271, 8281, 8291, 8301, 8311, 8321, 8331, 8341, 8351, 8361, 8371, 8381, 8391, 8401, 8411, 8421, 8431, 8441, 8451, 8461, 8471, 8481, 8491, 8501, 8511, 8521, 8531, 8541, 8551, 8561, 8571, 8581, 8591, 8601, 8611, 8621, 8631, 8641, 8651, 8661, 8671, 8681, 8691, 8701, 8711, 8721, 8731, 8741, 8751, 8761, 8771, 8781, 8791, 8801, 8811, 8821, 8831, 8841, 8851, 8861, 8871, 8881, 8891, 8901, 8911, 8921, 8931, 8941, 8951, 8961, 8971, 8981, 8991, 9001, 9011, 9021, 9031, 9041, 9051, 9061, 9071, 9081, 9091, 9101, 9111, 9121, "
     ]
    }
   ],
   "source": [
    "%%time\n",
    "n_features = len(cont_colums) + len(cat_columns)\n",
    "bin_banzhaf_values = np.zeros([x_test.shape[0],n_features,n_features])\n",
    "bin_shap_values = np.zeros([x_test.shape[0],n_features,n_features])\n",
    "bin_qii_values = np.zeros([x_test.shape[0],n_features,n_features])\n",
    "for i in linear_points:\n",
    "    print(i, end=\", \")\n",
    "    test_point = np.asarray(x_test.iloc[i:i+1,:])\n",
    "    bin_banzhaf_values[i] = BII.one_hot_binary_banzhaf(test_point,b_clf,cont_colums,\n",
    "                                                              cat_columns,onehot_columns,\n",
    "                                                              number_samples=number_samples)\n",
    "    bin_shap_values[i] =  BII.one_hot_binary_shapley(test_point,b_clf,cont_colums,\n",
    "                                                            cat_columns,onehot_columns,\n",
    "                                                            number_samples=number_samples)\n",
    "    bin_qii_values[i] =  BII.one_hot_binary_qii(test_point,b_clf,cont_colums,\n",
    "                                                               cat_columns,onehot_columns)"
   ]
  },
  {
   "cell_type": "code",
   "execution_count": null,
   "metadata": {},
   "outputs": [],
   "source": [
    "%%time\n",
    "n_features = len(cont_colums) + len(cat_columns)\n",
    "merge_bin_banzhaf_values = np.zeros([x_test.shape[0],n_features-1,n_features-1])\n",
    "merge_bin_shap_values = np.zeros([x_test.shape[0],n_features-1,n_features-1])\n",
    "merge_bin_qii_values = np.zeros([x_test.shape[0],n_features-1,n_features-1])\n",
    "for i in linear_points:\n",
    "    print(i, end=\", \")\n",
    "    test_point = np.asarray(x_test.iloc[i:i+1,:])\n",
    "    merge_bin_banzhaf_values[i] = BII.one_hot_binary_banzhaf_merge(test_point,b_clf,\n",
    "                                                   cont_colums,cat_columns,\n",
    "                                                   onehot_columns, [1,5], number_samples=number_samples)\n",
    "    merge_bin_shap_values[i] =  BII.one_hot_binary_shapley_merge(test_point,b_clf,\n",
    "                                                   cont_colums,cat_columns,\n",
    "                                                   onehot_columns, [1,5], number_samples=number_samples)\n",
    "    merge_bin_qii_values[i] =  BII.one_hot_binary_qii_merge(test_point,b_clf,\n",
    "                                                   cont_colums,cat_columns,\n",
    "                                                   onehot_columns,  [1,5])"
   ]
  },
  {
   "cell_type": "code",
   "execution_count": null,
   "metadata": {},
   "outputs": [],
   "source": [
    "max_bin_ban = np.max(np.abs(merge_bin_banzhaf_values))\n",
    "max_bin_sha = np.max(np.abs(merge_bin_shap_values))"
   ]
  },
  {
   "cell_type": "code",
   "execution_count": null,
   "metadata": {},
   "outputs": [],
   "source": [
    "for i,col in  enumerate(reordered_test.columns):\n",
    "    print(i,col)"
   ]
  },
  {
   "cell_type": "code",
   "execution_count": null,
   "metadata": {},
   "outputs": [],
   "source": [
    "# We are looking for points where the results for Shapley are counter intuitve (with some margin)"
   ]
  },
  {
   "cell_type": "code",
   "execution_count": null,
   "metadata": {},
   "outputs": [],
   "source": [
    "#Interaction with marriage_status\n",
    "marriage_status_mistakes = linear_points[np.where(np.logical_and(np.logical_and(\n",
    "    bin_shap_values[linear_points][:,1,7]/max_bin_sha < -0.01, \n",
    "    bin_shap_values[linear_points][:,5,7]/max_bin_sha > 0.01),\n",
    "    np.abs(bin_shap_values[linear_points][:,1,7] +\n",
    "    bin_shap_values[linear_points][:,5,7] )/max_bin_sha + 0.05 < np.abs(merge_bin_shap_values[linear_points][:,1,6]/max_bin_sha) )\n",
    ")]\n",
    "marriage_status_mistakes"
   ]
  },
  {
   "cell_type": "code",
   "execution_count": null,
   "metadata": {},
   "outputs": [],
   "source": [
    "#Interaction with capital gain\n",
    "capital_gain_mistakes = linear_points[np.where(np.logical_and(\n",
    "    np.abs((bin_shap_values[linear_points][:,1,2] +\n",
    "    bin_shap_values[linear_points][:,2,5] )/max_bin_sha)< 0.01,\n",
    "    np.abs(merge_bin_shap_values[linear_points][:,1,2] /max_bin_sha)> 0.01)\n",
    ")]\n",
    "capital_gain_mistakes"
   ]
  },
  {
   "cell_type": "code",
   "execution_count": null,
   "metadata": {},
   "outputs": [],
   "source": [
    "print(\"Shapley\")\n",
    "print(\"{},{},{},{},{}\".format(\"number\",\"educationNumCaptialGain\",\"educationCaptialGain\",\"mergeEducationCapitalGain\",\"expectedMergeEducationCapitalGain\"))\n",
    "for j,i in enumerate(capital_gain_mistakes):\n",
    "    print(\"{},{:.3f},{:.3f},{:.3f},{:.3f}\".format(j, \n",
    "                                                  bin_shap_values[i][1,2]/max_bin_sha,\n",
    "                                                  bin_shap_values[i][2,5]/max_bin_sha,\n",
    "                                                  merge_bin_shap_values[i][1,2]/max_bin_sha,\n",
    "                                                  (bin_shap_values[i][1,2]+bin_shap_values[i][2,5])/max_bin_sha))"
   ]
  },
  {
   "cell_type": "code",
   "execution_count": null,
   "metadata": {},
   "outputs": [],
   "source": [
    "print(\"{},{},{},{},{}\".format(\"number\",\"educationNumMarriage\",\"educationMarriage\",\"mergeEducationMarriage\",\"expectedMergeEducationMarriage\"))\n",
    "for j,i in enumerate(marriage_status_mistakes):\n",
    "    print(\"{},{:.3f},{:.3f},{:.3f},{:.3f}\".format(j, \n",
    "                                                  bin_shap_values[i][1,7]/max_bin_sha,\n",
    "                                                  bin_shap_values[i][5,7]/max_bin_sha,\n",
    "                                                  merge_bin_shap_values[i][1,6]/max_bin_sha,\n",
    "                                                  (bin_shap_values[i][1,7]+bin_shap_values[i][5,7])/max_bin_sha))"
   ]
  },
  {
   "cell_type": "markdown",
   "metadata": {},
   "source": [
    "### This is just for testing"
   ]
  },
  {
   "cell_type": "code",
   "execution_count": null,
   "metadata": {},
   "outputs": [],
   "source": [
    "print(\"Banzhaf\")\n",
    "print(\"{},{},{},{},{}\".format(\"number\",\"educationNumCaptialGain\",\"educationCaptialGain\",\"mergeEducationCapitalGain\",\"expectedMergeEducationCapitalGain\"))\n",
    "for j,i in enumerate(capital_gain_mistakes):\n",
    "    print(\"{},{:.3f},{:.3f},{:.3f},{:.3f}\".format(j, \n",
    "                                                  bin_banzhaf_values[i][1,2]/max_bin_ban,\n",
    "                                                  bin_banzhaf_values[i][2,5]/max_bin_ban,\n",
    "                                                  merge_bin_banzhaf_values[i][1,2]/max_bin_ban,\n",
    "                                                  (bin_banzhaf_values[i][1,2]+bin_banzhaf_values[i][2,5])/max_bin_ban))"
   ]
  },
  {
   "cell_type": "code",
   "execution_count": null,
   "metadata": {},
   "outputs": [],
   "source": [
    "print(\"{},{},{},{},{}\".format(\"number\",\"educationNumMarriage\",\"educationMarriage\",\"mergeEducationMarriage\",\"expectedMergeEducationMarriage\"))\n",
    "for j,i in enumerate(marriage_status_mistakes):\n",
    "    print(\"{},{:.3f},{:.3f},{:.3f},{:.3f}\".format(j, \n",
    "                                                  bin_banzhaf_values[i][1,7]/max_bin_ban,\n",
    "                                                  bin_banzhaf_values[i][5,7]/max_bin_ban,\n",
    "                                                  merge_bin_banzhaf_values[i][1,6]/max_bin_ban,\n",
    "                                                  (bin_banzhaf_values[i][1,7]+bin_banzhaf_values[i][5,7])/max_bin_ban))"
   ]
  },
  {
   "cell_type": "code",
   "execution_count": null,
   "metadata": {},
   "outputs": [],
   "source": []
  }
 ],
 "metadata": {
  "kernelspec": {
   "display_name": "BII2",
   "language": "python",
   "name": "bii2"
  },
  "language_info": {
   "codemirror_mode": {
    "name": "ipython",
    "version": 3
   },
   "file_extension": ".py",
   "mimetype": "text/x-python",
   "name": "python",
   "nbconvert_exporter": "python",
   "pygments_lexer": "ipython3",
   "version": "3.6.12"
  }
 },
 "nbformat": 4,
 "nbformat_minor": 4
}
