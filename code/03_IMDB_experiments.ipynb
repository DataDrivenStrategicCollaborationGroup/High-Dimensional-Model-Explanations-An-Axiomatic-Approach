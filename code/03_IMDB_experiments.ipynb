{
 "cells": [
  {
   "cell_type": "markdown",
   "metadata": {},
   "source": [
    "# IMDB dataset with the BERT model\n",
    "Applying model explanations to language data especially when using large models like BERT creates some technical complications\n",
    "\n",
    "1. When considering each word as a feature even short texts have hundreds of features.\n",
    "2. Quering the BERT model to make single predictions is really inefficient. \n",
    "\n",
    "To circumvent these diffiuclties we use the following approach:\n",
    "\n",
    "1. Instead of caluclating the influence of every word in every sentence we first find the most important sentence (according to a linear feature explanation measure) and then in a second step calculate the influence of words in this important sentence. We also restrict our attention to short reviews.\n",
    "2. We treat BERT as an external module. We first create a prediction dataset for BERT, then make all the predictions and then calculate the feature importance over the predictions "
   ]
  },
  {
   "cell_type": "code",
   "execution_count": 1,
   "metadata": {},
   "outputs": [],
   "source": [
    "%load_ext autoreload\n",
    "%autoreload 2\n",
    "import numpy as np \n",
    "import pandas as pd\n",
    "from sklearn import tree\n",
    "from sklearn.preprocessing import LabelEncoder\n",
    "import matplotlib.pyplot as plt\n",
    "import BII\n",
    "#import shap\n",
    "from scipy.sparse import csr_matrix\n",
    "from sklearn.linear_model import LogisticRegression\n",
    "from sklearn.metrics import accuracy_score\n",
    "from sklearn.model_selection import train_test_split\n",
    "import itertools\n",
    "import warnings"
   ]
  },
  {
   "cell_type": "code",
   "execution_count": 36,
   "metadata": {},
   "outputs": [],
   "source": [
    "path_to_IMDB_testset = \"data/IMDB/movie_data/test.tsv\""
   ]
  },
  {
   "cell_type": "code",
   "execution_count": 37,
   "metadata": {},
   "outputs": [],
   "source": [
    "test = pd.read_csv(path_to_IMDB_testset,sep=\"\\t\")"
   ]
  },
  {
   "cell_type": "code",
   "execution_count": 6,
   "metadata": {},
   "outputs": [],
   "source": [
    "test[\"split\"] = test[\"text\"].str.split(\".\")"
   ]
  },
  {
   "cell_type": "code",
   "execution_count": 7,
   "metadata": {},
   "outputs": [],
   "source": [
    "test[\"split\"] = test[\"split\"].transform(lambda split: [word for word in split if len(word) > 1 ])"
   ]
  },
  {
   "cell_type": "code",
   "execution_count": 8,
   "metadata": {},
   "outputs": [],
   "source": [
    "short_reviews = test[[\"label\",\"split\"]][test[\"split\"].str.len() < 10]"
   ]
  },
  {
   "cell_type": "code",
   "execution_count": 9,
   "metadata": {},
   "outputs": [
    {
     "data": {
      "text/html": [
       "<div>\n",
       "<style scoped>\n",
       "    .dataframe tbody tr th:only-of-type {\n",
       "        vertical-align: middle;\n",
       "    }\n",
       "\n",
       "    .dataframe tbody tr th {\n",
       "        vertical-align: top;\n",
       "    }\n",
       "\n",
       "    .dataframe thead th {\n",
       "        text-align: right;\n",
       "    }\n",
       "</style>\n",
       "<table border=\"1\" class=\"dataframe\">\n",
       "  <thead>\n",
       "    <tr style=\"text-align: right;\">\n",
       "      <th></th>\n",
       "      <th>label</th>\n",
       "      <th>split</th>\n",
       "    </tr>\n",
       "  </thead>\n",
       "  <tbody>\n",
       "    <tr>\n",
       "      <th>1</th>\n",
       "      <td>1</td>\n",
       "      <td>[For only doing a few movies with his life the...</td>\n",
       "    </tr>\n",
       "    <tr>\n",
       "      <th>2</th>\n",
       "      <td>0</td>\n",
       "      <td>[From all the rave reviews, we couldn't wait t...</td>\n",
       "    </tr>\n",
       "    <tr>\n",
       "      <th>4</th>\n",
       "      <td>1</td>\n",
       "      <td>[Remarkably well done, but under-recognized be...</td>\n",
       "    </tr>\n",
       "    <tr>\n",
       "      <th>6</th>\n",
       "      <td>0</td>\n",
       "      <td>[I hated the book,  A guy meets a smart dog, g...</td>\n",
       "    </tr>\n",
       "    <tr>\n",
       "      <th>8</th>\n",
       "      <td>0</td>\n",
       "      <td>[This has got to be one of the worst films I h...</td>\n",
       "    </tr>\n",
       "    <tr>\n",
       "      <th>...</th>\n",
       "      <td>...</td>\n",
       "      <td>...</td>\n",
       "    </tr>\n",
       "    <tr>\n",
       "      <th>12493</th>\n",
       "      <td>0</td>\n",
       "      <td>[I won't lie, I rented this film because it wa...</td>\n",
       "    </tr>\n",
       "    <tr>\n",
       "      <th>12494</th>\n",
       "      <td>0</td>\n",
       "      <td>[This feels very stilted and patronizing to a ...</td>\n",
       "    </tr>\n",
       "    <tr>\n",
       "      <th>12495</th>\n",
       "      <td>1</td>\n",
       "      <td>[I've seen this movie at least 8 times, and I ...</td>\n",
       "    </tr>\n",
       "    <tr>\n",
       "      <th>12496</th>\n",
       "      <td>0</td>\n",
       "      <td>[Saw this as part of the DC Reel Affirmations ...</td>\n",
       "    </tr>\n",
       "    <tr>\n",
       "      <th>12499</th>\n",
       "      <td>1</td>\n",
       "      <td>[A brilliant animated piece that was far ahead...</td>\n",
       "    </tr>\n",
       "  </tbody>\n",
       "</table>\n",
       "<p>6218 rows × 2 columns</p>\n",
       "</div>"
      ],
      "text/plain": [
       "       label                                              split\n",
       "1          1  [For only doing a few movies with his life the...\n",
       "2          0  [From all the rave reviews, we couldn't wait t...\n",
       "4          1  [Remarkably well done, but under-recognized be...\n",
       "6          0  [I hated the book,  A guy meets a smart dog, g...\n",
       "8          0  [This has got to be one of the worst films I h...\n",
       "...      ...                                                ...\n",
       "12493      0  [I won't lie, I rented this film because it wa...\n",
       "12494      0  [This feels very stilted and patronizing to a ...\n",
       "12495      1  [I've seen this movie at least 8 times, and I ...\n",
       "12496      0  [Saw this as part of the DC Reel Affirmations ...\n",
       "12499      1  [A brilliant animated piece that was far ahead...\n",
       "\n",
       "[6218 rows x 2 columns]"
      ]
     },
     "execution_count": 9,
     "metadata": {},
     "output_type": "execute_result"
    }
   ],
   "source": [
    "short_reviews"
   ]
  },
  {
   "cell_type": "code",
   "execution_count": 10,
   "metadata": {},
   "outputs": [],
   "source": [
    "def binarize(input_text):\n",
    "    result = []\n",
    "    m = len(input_text)\n",
    "    d = np.arange(2**m)\n",
    "    mask = np.ma.make_mask((((d[:,None] & (1 << np.arange(m)))) > 0).astype(int))\n",
    "    input_array = np.asarray(input_text)\n",
    "    for row in mask:\n",
    "        result.append(\" \".join(input_array[row]))\n",
    "    return result"
   ]
  },
  {
   "cell_type": "code",
   "execution_count": 11,
   "metadata": {},
   "outputs": [],
   "source": [
    "texts = []\n",
    "labels = [] \n",
    "for review in short_reviews.iterrows():\n",
    "    binarized_review = binarize(review[1][\"split\"])\n",
    "    texts.append( binarized_review)\n",
    "    labels.append(np.repeat(review[1][\"label\"],len(binarized_review)))\n",
    "texts_concat = (list(itertools.chain.from_iterable(texts)))\n",
    "labels_concat = (list(itertools.chain.from_iterable(labels)))\n",
    "binarized_short_reviews = pd.DataFrame(texts_concat,columns=[\"text\"])\n",
    "binarized_short_reviews[\"label\"] = labels_concat\n",
    "binarized_short_reviews =binarized_short_reviews[[\"label\",\"text\"]]"
   ]
  },
  {
   "cell_type": "code",
   "execution_count": 12,
   "metadata": {},
   "outputs": [
    {
     "data": {
      "text/plain": [
       "1052862"
      ]
     },
     "execution_count": 12,
     "metadata": {},
     "output_type": "execute_result"
    }
   ],
   "source": [
    "len(binarized_short_reviews)"
   ]
  },
  {
   "cell_type": "code",
   "execution_count": 705,
   "metadata": {},
   "outputs": [],
   "source": [
    "for counter in range (4):\n",
    "    os.mkdir(\"../../Data/imdb/sentences_{}\".format(counter))\n",
    "binarized_short_reviews.iloc[:250000].to_csv(\"../../Data/imdb/sentences_{}/dev.tsv\".format(0),sep=\"\\t\",index=False)\n",
    "binarized_short_reviews.iloc[250000:500000].to_csv(\"../../Data/imdb/sentences_{}/dev.tsv\".format(1),sep=\"\\t\",index=False)\n",
    "binarized_short_reviews.iloc[500000:750000].to_csv(\"../../Data/imdb/sentences_{}/dev.tsv\".format(2),sep=\"\\t\",index=False)\n",
    "binarized_short_reviews.iloc[750000:].to_csv(\"../../Data/imdb/sentences_{}/dev.tsv\".format(3),sep=\"\\t\",index=False)"
   ]
  },
  {
   "cell_type": "code",
   "execution_count": 13,
   "metadata": {},
   "outputs": [],
   "source": [
    "outputs_1 = pd.read_csv(\"../Bert/bert-sentiment-IMDB/data/outputs/imdb/sentences_1.txt\",header=None)\n",
    "outputs_2 = pd.read_csv(\"../Bert/bert-sentiment-IMDB/data/outputs/imdb/sentences_2.txt\",header=None)\n",
    "outputs_3 = pd.read_csv(\"../Bert/bert-sentiment-IMDB/data/outputs/imdb/sentences_3.txt\",header=None)\n",
    "outputs_4 = pd.read_csv(\"../Bert/bert-sentiment-IMDB/data/outputs/imdb/sentences_4.txt\",header=None)"
   ]
  },
  {
   "cell_type": "code",
   "execution_count": 14,
   "metadata": {},
   "outputs": [],
   "source": [
    "outputs_sentences =np.asarray( pd.concat([outputs_1, outputs_2, outputs_3, outputs_4]))"
   ]
  },
  {
   "cell_type": "code",
   "execution_count": 15,
   "metadata": {},
   "outputs": [
    {
     "data": {
      "text/plain": [
       "1052862"
      ]
     },
     "execution_count": 15,
     "metadata": {},
     "output_type": "execute_result"
    }
   ],
   "source": [
    "len(outputs_sentences)"
   ]
  },
  {
   "cell_type": "code",
   "execution_count": 25,
   "metadata": {},
   "outputs": [],
   "source": [
    "def softmax(x):\n",
    "    return np.exp(x)/np.sum(np.exp(x),axis=1)[:,None]"
   ]
  },
  {
   "cell_type": "code",
   "execution_count": 19,
   "metadata": {},
   "outputs": [],
   "source": [
    "def create_mask_subset(m,i):\n",
    "    return np.tile(np.asarray([False,True]).repeat(2**i),2**(m-i))"
   ]
  },
  {
   "cell_type": "code",
   "execution_count": 20,
   "metadata": {},
   "outputs": [],
   "source": [
    "def exact_banzhaf(i,m,values):\n",
    "    S_i = create_mask_subset(m,i)\n",
    "    not_S_i = np.logical_not(S_i)\n",
    "    return 2**(-(m-1))*(np.sum(values[S_i]) - np.sum(values[not_S_i]))"
   ]
  },
  {
   "cell_type": "code",
   "execution_count": 21,
   "metadata": {},
   "outputs": [],
   "source": [
    "def average_prediction_around(i,j,m,values):\n",
    "    i = create_mask_subset(m,i)\n",
    "    j = create_mask_subset(m,j)\n",
    "    S_i = np.logical_and(i,np.logical_not(j))\n",
    "    return np.mean(values[S_i])"
   ]
  },
  {
   "cell_type": "code",
   "execution_count": 22,
   "metadata": {},
   "outputs": [],
   "source": [
    "def exact_bin_banzhaf(i,j,m,values):\n",
    "    i = create_mask_subset(m,i)\n",
    "    j = create_mask_subset(m,j)\n",
    "    S_i = np.logical_and(i,np.logical_not(j))\n",
    "    S_j = np.logical_and(j,np.logical_not(i))\n",
    "    S_ij = np.logical_and(j,i)\n",
    "    not_S_ij = np.logical_and(np.logical_not(j),np.logical_not(i))\n",
    "    return 2**(-(m-2))*(np.sum(values[S_ij]) -np.sum(values[S_j]) -np.sum(values[S_i]) + np.sum(values[not_S_ij]))"
   ]
  },
  {
   "cell_type": "code",
   "execution_count": 23,
   "metadata": {},
   "outputs": [],
   "source": [
    "def calculate_linear_Banzhaf_values_from_outputs(outputs):\n",
    "    outputs = np.asarray(outputs)\n",
    "    num_features = int(np.log2(len(outputs)))\n",
    "    banzhaf_values = np.zeros([num_features,num_features])\n",
    "    for i in range(num_features):\n",
    "        banzhaf_values[i,i] = exact_banzhaf(i,num_features-1,softmax(outputs)[:,1])\n",
    "        for j in range(i+1,num_features):\n",
    "            banzhaf_values[i,j] = exact_bin_banzhaf(i,j,num_features-1,softmax(outputs)[:,1])\n",
    "    return banzhaf_values"
   ]
  },
  {
   "cell_type": "code",
   "execution_count": 26,
   "metadata": {},
   "outputs": [],
   "source": [
    "values= []\n",
    "start =0 \n",
    "for review in short_reviews.iterrows():\n",
    "    end = start+2**len(review[1][\"split\"])\n",
    "    values.append(calculate_linear_Banzhaf_values_from_outputs(outputs_sentences[start:end]))\n",
    "    start = end"
   ]
  },
  {
   "cell_type": "code",
   "execution_count": 27,
   "metadata": {},
   "outputs": [],
   "source": [
    "short_reviews[\"values\"] = values"
   ]
  },
  {
   "cell_type": "code",
   "execution_count": 28,
   "metadata": {},
   "outputs": [],
   "source": [
    "short_reviews[\"max_sentence_number\"] = short_reviews[\"values\"].transform(lambda x : np.argmax(np.abs(np.diagonal(x))))"
   ]
  },
  {
   "cell_type": "code",
   "execution_count": 29,
   "metadata": {},
   "outputs": [],
   "source": [
    "short_reviews[\"max_sentence\"] = short_reviews.apply(lambda x: x['split'][x[\"max_sentence_number\"]],axis=1)\n",
    "short_reviews[\"before_max_sentence\"] = short_reviews.apply(lambda x: \" \".join(x['split'][:x[\"max_sentence_number\"]]),axis=1)\n",
    "short_reviews[\"after_max_sentence\"] = short_reviews.apply(lambda x: \" \".join(x['split'][(x[\"max_sentence_number\"]+1):]),axis=1)"
   ]
  },
  {
   "cell_type": "code",
   "execution_count": 30,
   "metadata": {},
   "outputs": [],
   "source": [
    "max_sentences = short_reviews[[\"label\",\"max_sentence\", \"before_max_sentence\", \"after_max_sentence\"]][(short_reviews[\"max_sentence\"].apply(lambda x: len(x.split(\" \"))) < 19)]"
   ]
  },
  {
   "cell_type": "code",
   "execution_count": 31,
   "metadata": {},
   "outputs": [],
   "source": [
    "max_sentences.rename(columns = {\"max_sentence\": \"text\"}, inplace = True)"
   ]
  },
  {
   "cell_type": "code",
   "execution_count": 32,
   "metadata": {},
   "outputs": [],
   "source": [
    "max_sentences[\"text\"] = max_sentences[\"text\"].replace(r'\\n','', regex=True) \n",
    "max_sentences[\"before_max_sentence\"] = max_sentences[\"before_max_sentence\"].replace(r'\\n','', regex=True) \n",
    "max_sentences[\"after_max_sentence\"] = max_sentences[\"after_max_sentence\"].replace(r'\\n','', regex=True) "
   ]
  },
  {
   "cell_type": "code",
   "execution_count": 33,
   "metadata": {},
   "outputs": [
    {
     "data": {
      "text/html": [
       "<div>\n",
       "<style scoped>\n",
       "    .dataframe tbody tr th:only-of-type {\n",
       "        vertical-align: middle;\n",
       "    }\n",
       "\n",
       "    .dataframe tbody tr th {\n",
       "        vertical-align: top;\n",
       "    }\n",
       "\n",
       "    .dataframe thead th {\n",
       "        text-align: right;\n",
       "    }\n",
       "</style>\n",
       "<table border=\"1\" class=\"dataframe\">\n",
       "  <thead>\n",
       "    <tr style=\"text-align: right;\">\n",
       "      <th></th>\n",
       "      <th>label</th>\n",
       "      <th>text</th>\n",
       "      <th>before_max_sentence</th>\n",
       "      <th>after_max_sentence</th>\n",
       "    </tr>\n",
       "  </thead>\n",
       "  <tbody>\n",
       "    <tr>\n",
       "      <th>1</th>\n",
       "      <td>1</td>\n",
       "      <td>Tommy Boy is a classic and we will always rem...</td>\n",
       "      <td>For only doing a few movies with his life the ...</td>\n",
       "      <td>From appearing on Saturday NIGHT LIVE to doin...</td>\n",
       "    </tr>\n",
       "    <tr>\n",
       "      <th>4</th>\n",
       "      <td>1</td>\n",
       "      <td>Has big-studio feel, understands the horror g...</td>\n",
       "      <td>Remarkably well done, but under-recognized bec...</td>\n",
       "      <td>Could have been a college cult classic, if it...</td>\n",
       "    </tr>\n",
       "    <tr>\n",
       "      <th>16</th>\n",
       "      <td>1</td>\n",
       "      <td>The story took such twist &amp; turns that made i...</td>\n",
       "      <td>Nurse Betty was definitely one of the most cre...</td>\n",
       "      <td>If you're sick of the recent formula movies, ...</td>\n",
       "    </tr>\n",
       "    <tr>\n",
       "      <th>18</th>\n",
       "      <td>0</td>\n",
       "      <td>Monotonous murky drama with an endless drone ...</td>\n",
       "      <td>Looking all of 29 years old, Rob Lowe is a det...</td>\n",
       "      <td>This is a good substitute sleeping remedy if y...</td>\n",
       "    </tr>\n",
       "    <tr>\n",
       "      <th>32</th>\n",
       "      <td>1</td>\n",
       "      <td>The Cormen B-movie style is all over this pup...</td>\n",
       "      <td>Black Scorpion is Roger Cormen's Batman  Which...</td>\n",
       "      <td>There are plenty of stunts and hot babes to m...</td>\n",
       "    </tr>\n",
       "    <tr>\n",
       "      <th>...</th>\n",
       "      <td>...</td>\n",
       "      <td>...</td>\n",
       "      <td>...</td>\n",
       "      <td>...</td>\n",
       "    </tr>\n",
       "    <tr>\n",
       "      <th>12479</th>\n",
       "      <td>0</td>\n",
       "      <td>Their was hardly any action at all and the ch...</td>\n",
       "      <td>I was actually looking forward to this movie  ...</td>\n",
       "      <td>The only saving grace was Omar Epps and even ...</td>\n",
       "    </tr>\n",
       "    <tr>\n",
       "      <th>12481</th>\n",
       "      <td>0</td>\n",
       "      <td>This Movie Was In My Opinion Very Ignorant! Th...</td>\n",
       "      <td></td>\n",
       "      <td>The Police Procedure Was Unrealistic  The Car...</td>\n",
       "    </tr>\n",
       "    <tr>\n",
       "      <th>12482</th>\n",
       "      <td>1</td>\n",
       "      <td>It is one movie that you MUST see or you have ...</td>\n",
       "      <td>Certainly this proves beyond a shadow of doubt...</td>\n",
       "      <td>I rank it 58 in the top 100 films of all time...</td>\n",
       "    </tr>\n",
       "    <tr>\n",
       "      <th>12488</th>\n",
       "      <td>1</td>\n",
       "      <td>Good Effects and Acting make this movie a mus...</td>\n",
       "      <td>Critters 4 is a good movie  A bit of a twist t...</td>\n",
       "      <td>I would recommend this to Horror/Science Fict...</td>\n",
       "    </tr>\n",
       "    <tr>\n",
       "      <th>12494</th>\n",
       "      <td>0</td>\n",
       "      <td>This feels very stilted and patronizing to a g...</td>\n",
       "      <td></td>\n",
       "      <td>The whole plot is extremely forced - especial...</td>\n",
       "    </tr>\n",
       "  </tbody>\n",
       "</table>\n",
       "<p>2540 rows × 4 columns</p>\n",
       "</div>"
      ],
      "text/plain": [
       "       label                                               text  \\\n",
       "1          1   Tommy Boy is a classic and we will always rem...   \n",
       "4          1   Has big-studio feel, understands the horror g...   \n",
       "16         1   The story took such twist & turns that made i...   \n",
       "18         0   Monotonous murky drama with an endless drone ...   \n",
       "32         1   The Cormen B-movie style is all over this pup...   \n",
       "...      ...                                                ...   \n",
       "12479      0   Their was hardly any action at all and the ch...   \n",
       "12481      0  This Movie Was In My Opinion Very Ignorant! Th...   \n",
       "12482      1  It is one movie that you MUST see or you have ...   \n",
       "12488      1   Good Effects and Acting make this movie a mus...   \n",
       "12494      0  This feels very stilted and patronizing to a g...   \n",
       "\n",
       "                                     before_max_sentence  \\\n",
       "1      For only doing a few movies with his life the ...   \n",
       "4      Remarkably well done, but under-recognized bec...   \n",
       "16     Nurse Betty was definitely one of the most cre...   \n",
       "18     Looking all of 29 years old, Rob Lowe is a det...   \n",
       "32     Black Scorpion is Roger Cormen's Batman  Which...   \n",
       "...                                                  ...   \n",
       "12479  I was actually looking forward to this movie  ...   \n",
       "12481                                                      \n",
       "12482  Certainly this proves beyond a shadow of doubt...   \n",
       "12488  Critters 4 is a good movie  A bit of a twist t...   \n",
       "12494                                                      \n",
       "\n",
       "                                      after_max_sentence  \n",
       "1       From appearing on Saturday NIGHT LIVE to doin...  \n",
       "4       Could have been a college cult classic, if it...  \n",
       "16      If you're sick of the recent formula movies, ...  \n",
       "18     This is a good substitute sleeping remedy if y...  \n",
       "32      There are plenty of stunts and hot babes to m...  \n",
       "...                                                  ...  \n",
       "12479   The only saving grace was Omar Epps and even ...  \n",
       "12481   The Police Procedure Was Unrealistic  The Car...  \n",
       "12482   I rank it 58 in the top 100 films of all time...  \n",
       "12488   I would recommend this to Horror/Science Fict...  \n",
       "12494   The whole plot is extremely forced - especial...  \n",
       "\n",
       "[2540 rows x 4 columns]"
      ]
     },
     "execution_count": 33,
     "metadata": {},
     "output_type": "execute_result"
    }
   ],
   "source": [
    "max_sentences"
   ]
  },
  {
   "cell_type": "code",
   "execution_count": 813,
   "metadata": {},
   "outputs": [
    {
     "name": "stdout",
     "output_type": "stream",
     "text": [
      "0,1,2,3,4,5,6,7,8,9,10,11,12,13,14,15,16,17,18,19,20,21,22,23,24,25,26,27,28,29,30,31,32,33,34,35,36,37,38,39,40,41,42,43,44,45,46,47,48,49,50,51,52,53,54,55,56,57,58,59,60,61,62,63,64,65,66,67,68,69,70,71,72,73,74,75,76,77,78,79,80,81,82,83,84,85,86,87,88,89,90,91,92,93,94,95,96,97,98,99,100,101,102,103,104,105,106,107,108,109,110,111,112,113,114,115,116,117,118,119,120,121,122,123,124,125,126,127,128,129,130,131,132,133,134,135,136,137,138,139,140,141,142,143,144,145,146,147,148,149,150,151,152,153,154,155,156,157,158,159,160,161,162,163,164,165,166,167,168,169,170,171,172,173,174,175,176,177,178,179,180,181,182,183,184,185,186,187,188,189,190,191,192,193,194,195,196,197,198,199,200,201,202,203,204,205,206,207,208,209,210,211,212,213,214,215,216,217,218,219,220,221,222,223,224,225,226,227,228,229,230,231,232,233,234,235,236,237,238,239,240,241,242,243,244,245,246,247,248,249,250,251,252,253,254,255,256,257,258,259,260,261,262,263,264,265,266,267,268,269,270,271,272,273,274,275,276,277,278,279,280,281,282,283,284,285,286,287,288,289,290,291,292,293,294,295,296,297,298,299,300,301,302,303,304,305,306,307,308,309,310,311,312,313,314,315,316,317,318,319,320,321,322,323,324,325,326,327,328,329,330,331,332,333,334,335,336,337,338,339,340,341,342,343,344,345,346,347,348,349,350,351,352,353,354,355,356,357,358,359,360,361,362,363,364,365,366,367,368,369,370,371,372,373,374,375,376,377,378,379,380,381,382,383,384,385,386,387,388,389,390,391,392,393,394,395,396,397,398,399,400,401,402,403,404,405,406,407,408,409,410,411,412,413,414,415,416,417,418,419,420,421,422,423,424,425,426,427,428,429,430,431,432,433,434,435,436,437,438,439,440,441,442,443,444,445,446,447,448,449,450,451,452,453,454,455,456,457,458,459,460,461,462,463,464,465,466,467,468,469,470,471,472,473,474,475,476,477,478,479,480,481,482,483,484,485,486,487,488,489,490,491,492,493,494,495,496,497,498,499,500,501,502,503,504,505,506,507,508,509,510,511,512,513,514,515,516,517,518,519,520,521,522,523,524,525,526,527,528,529,530,531,532,533,534,535,536,537,538,539,540,541,542,543,544,545,546,547,548,549,550,551,552,553,554,555,556,557,558,559,560,561,562,563,564,565,566,567,568,569,570,571,572,573,574,575,576,577,578,579,580,581,582,583,584,585,586,587,588,589,590,591,592,593,594,595,596,597,598,599,600,601,602,603,604,605,606,607,608,609,610,611,612,613,614,615,616,617,618,619,620,621,622,623,624,625,626,627,628,629,630,631,632,633,634,635,636,637,638,639,640,641,642,643,644,645,646,647,648,649,650,651,652,653,654,655,656,657,658,659,660,661,662,663,664,665,666,667,668,669,670,671,672,673,674,675,676,677,678,679,680,681,682,683,684,685,686,687,688,689,690,691,692,693,694,695,696,697,698,699,700,701,702,703,704,705,706,707,708,709,710,711,712,713,714,715,716,717,718,719,720,721,722,723,724,725,726,727,728,729,730,731,732,733,734,735,736,737,738,739,740,741,742,743,744,745,746,747,748,749,750,751,752,753,754,755,756,757,758,759,760,761,762,763,764,765,766,767,768,769,770,771,772,773,774,775,776,777,778,779,780,781,782,783,784,785,786,787,788,789,790,791,792,793,794,795,796,797,798,799,800,801,802,803,804,805,806,807,808,809,810,811,812,813,814,815,816,817,818,819,820,821,822,823,824,825,826,827,828,829,830,831,832,833,834,835,836,837,838,839,840,841,842,843,844,845,846,847,848,849,850,851,852,853,854,855,856,857,858,859,860,861,862,863,864,865,866,867,868,869,870,871,872,873,874,875,876,877,878,879,880,881,882,883,884,885,886,887,888,889,890,891,892,893,894,895,896,897,898,899,900,901,902,903,904,905,906,907,908,909,910,911,912,913,914,915,916,917,918,919,920,921,922,923,924,925,926,927,928,929,930,931,932,933,934,935,936,937,938,939,940,941,942,943,944,945,946,947,948,949,950,951,952,953,954,955,956,957,958,959,960,961,962,963,964,965,966,967,968,969,970,971,972,973,974,975,976,977,978,979,980,981,982,983,984,985,986,987,988,989,990,991,992,993,994,995,996,997,998,999,1000,1001,1002,1003,1004,1005,1006,1007,1008,1009,1010,1011,1012,1013,1014,1015,1016,1017,1018,1019,1020,1021,1022,1023,1024,1025,1026,1027,1028,1029,1030,1031,1032,1033,1034,1035,1036,1037,1038,1039,1040,1041,1042,1043,1044,1045,1046,1047,1048,1049,1050,1051,1052,1053,1054,1055,1056,1057,1058,1059,1060,1061,1062,1063,1064,1065,1066,1067,1068,1069,1070,1071,1072,1073,1074,1075,1076,1077,1078,1079,1080,1081,1082,1083,1084,1085,1086,1087,1088,1089,1090,1091,1092,1093,1094,1095,1096,1097,1098,1099,1100,1101,1102,1103,1104,1105,1106,1107,1108,1109,1110,1111,1112,1113,1114,1115,1116,1117,1118,1119,1120,1121,1122,1123,1124,1125,1126,1127,1128,1129,1130,1131,1132,1133,1134,1135,1136,1137,1138,1139,1140,1141,1142,1143,1144,1145,1146,1147,1148,1149,1150,1151,1152,1153,1154,1155,1156,1157,1158,1159,1160,1161,1162,1163,1164,1165,1166,1167,1168,1169,1170,1171,1172,1173,1174,1175,1176,1177,1178,1179,1180,1181,1182,1183,1184,1185,1186,1187,1188,1189,1190,1191,1192,1193,1194,1195,1196,1197,1198,1199,1200,1201,1202,1203,1204,1205,1206,1207,1208,1209,1210,1211,1212,1213,1214,1215,1216,1217,1218,1219,1220,1221,1222,1223,1224,1225,1226,1227,1228,1229,1230,1231,1232,1233,1234,1235,1236,1237,1238,1239,1240,1241,1242,1243,1244,1245,1246,1247,1248,1249,1250,1251,1252,1253,1254,1255,1256,1257,1258,1259,1260,1261,1262,1263,1264,1265,1266,1267,1268,1269,1270,1271,1272,1273,1274,1275,1276,1277,1278,1279,1280,1281,1282,1283,1284,1285,1286,1287,1288,1289,1290,1291,1292,1293,1294,1295,1296,1297,1298,1299,1300,1301,1302,1303,1304,1305,1306,1307,1308,1309,1310,1311,1312,1313,1314,1315,1316,1317,1318,1319,1320,1321,1322,1323,1324,1325,1326,1327,1328,1329,1330,1331,1332,1333,1334,1335,1336,1337,1338,1339,1340,1341,1342,1343,1344,1345,1346,1347,1348,1349,1350,1351,1352,1353,1354,1355,1356,1357,1358,1359,1360,1361,1362,1363,1364,1365,1366,1367,1368,1369,1370,1371,1372,1373,1374,1375,1376,1377,1378,1379,1380,1381,1382,1383,1384,1385,1386,1387,1388,1389,1390,1391,1392,1393,1394,1395,1396,1397,1398,1399,1400,1401,1402,1403,1404,1405,1406,1407,1408,1409,1410,1411,1412,1413,1414,1415,1416,1417,1418,1419,1420,1421,1422,1423,1424,1425,1426,1427,1428,1429,1430,1431,1432,1433,1434,1435,1436,1437,1438,1439,1440,1441,1442,1443,1444,1445,1446,1447,1448,1449,1450,1451,1452,1453,1454,1455,1456,1457,1458,1459,1460,1461,1462,1463,1464,1465,1466,1467,1468,1469,1470,1471,1472,1473,1474,1475,1476,1477,1478,1479,1480,1481,1482,1483,1484,1485,1486,1487,1488,1489,1490,1491,1492,1493,1494,1495,1496,1497,1498,1499,1500,1501,1502,1503,1504,1505,1506,1507,1508,1509,1510,1511,1512,1513,1514,1515,1516,1517,1518,1519,1520,1521,1522,1523,1524,1525,1526,1527,1528,1529,1530,1531,1532,1533,1534,1535,1536,1537,1538,1539,1540,1541,1542,1543,1544,1545,1546,1547,1548,1549,1550,1551,1552,1553,1554,1555,1556,1557,1558,1559,1560,1561,1562,1563,1564,1565,1566,1567,1568,1569,1570,1571,1572,1573,1574,1575,1576,1577,1578,1579,1580,1581,1582,1583,1584,1585,1586,1587,1588,1589,1590,1591,1592,1593,1594,1595,1596,1597,1598,1599,1600,1601,1602,1603,1604,1605,1606,1607,1608,1609,1610,1611,1612,1613,1614,1615,1616,1617,1618,1619,1620,1621,1622,1623,1624,1625,1626,1627,1628,1629,1630,1631,1632,1633,1634,1635,1636,1637,1638,1639,1640,1641,1642,1643,1644,1645,1646,1647,1648,1649,1650,1651,1652,1653,1654,1655,1656,1657,1658,1659,1660,1661,1662,1663,1664,1665,1666,1667,1668,1669,1670,1671,1672,1673,1674,1675,1676,1677,1678,1679,1680,1681,1682,1683,1684,1685,1686,1687,1688,1689,1690,1691,1692,1693,1694,1695,1696,1697,1698,1699,1700,1701,1702,1703,1704,1705,1706,1707,1708,1709,1710,1711,1712,1713,1714,1715,1716,1717,1718,1719,1720,1721,1722,1723,1724,1725,1726,1727,1728,1729,1730,1731,1732,1733,1734,1735,1736,1737,1738,1739,1740,1741,1742,1743,1744,1745,1746,1747,1748,1749,1750,1751,1752,1753,1754,1755,1756,1757,1758,1759,1760,1761,1762,1763,1764,1765,1766,1767,1768,1769,1770,1771,1772,1773,1774,1775,1776,1777,1778,1779,1780,1781,1782,1783,1784,1785,1786,1787,1788,1789,1790,1791,1792,1793,1794,1795,1796,1797,1798,1799,1800,1801,1802,1803,1804,1805,1806,1807,1808,1809,1810,1811,1812,1813,1814,1815,1816,1817,1818,1819,1820,1821,1822,1823,1824,1825,1826,1827,1828,1829,1830,1831,1832,1833,1834,1835,1836,1837,1838,1839,1840,1841,1842,1843,1844,1845,1846,1847,1848,1849,1850,1851,1852,1853,1854,1855,1856,1857,1858,1859,1860,1861,1862,1863,1864,1865,1866,1867,1868,1869,1870,1871,1872,1873,1874,1875,1876,1877,1878,1879,1880,1881,1882,1883,1884,1885,1886,1887,1888,1889,1890,1891,1892,1893,1894,1895,1896,1897,1898,1899,1900,1901,1902,1903,1904,1905,1906,1907,1908,1909,1910,1911,1912,1913,1914,1915,1916,1917,1918,1919,1920,1921,1922,1923,1924,1925,1926,1927,1928,1929,1930,1931,1932,1933,1934,1935,1936,1937,1938,1939,1940,1941,1942,1943,1944,1945,1946,1947,1948,1949,1950,1951,1952,1953,1954,1955,1956,1957,1958,1959,1960,1961,1962,1963,1964,1965,1966,1967,1968,1969,1970,1971,1972,1973,1974,1975,1976,1977,1978,1979,1980,1981,1982,1983,1984,1985,1986,1987,1988,1989,1990,1991,1992,1993,1994,1995,1996,1997,1998,1999,2000,2001,2002,2003,2004,2005,2006,2007,2008,2009,2010,2011,2012,2013,2014,2015,2016,2017,2018,2019,2020,2021,2022,2023,2024,2025,2026,2027,2028,2029,2030,2031,2032,2033,2034,2035,2036,2037,2038,2039,2040,2041,2042,2043,2044,2045,2046,2047,2048,2049,2050,2051,2052,2053,2054,2055,2056,2057,2058,2059,2060,2061,2062,2063,2064,2065,2066,2067,2068,2069,2070,2071,2072,2073,2074,2075,2076,2077,2078,2079,2080,2081,2082,2083,2084,2085,2086,2087,2088,2089,2090,2091,2092,2093,2094,2095,2096,2097,2098,2099,2100,2101,2102,2103,2104,2105,2106,2107,2108,2109,2110,2111,2112,2113,2114,2115,2116,2117,2118,2119,2120,2121,2122,2123,2124,2125,2126,2127,2128,2129,2130,2131,2132,2133,2134,2135,2136,2137,2138,2139,2140,2141,2142,2143,2144,2145,2146,2147,2148,2149,2150,2151,2152,2153,2154,2155,2156,2157,2158,2159,2160,2161,2162,2163,2164,2165,2166,2167,2168,2169,2170,2171,2172,2173,2174,2175,2176,2177,2178,2179,2180,2181,2182,2183,2184,2185,2186,2187,2188,2189,2190,2191,2192,2193,2194,2195,2196,2197,2198,2199,2200,2201,2202,2203,2204,2205,2206,2207,2208,2209,2210,2211,2212,2213,2214,2215,2216,2217,2218,2219,2220,2221,2222,2223,2224,2225,2226,2227,2228,2229,2230,2231,2232,2233,2234,2235,2236,2237,2238,2239,2240,2241,2242,2243,2244,2245,2246,2247,2248,2249,2250,2251,2252,2253,2254,2255,2256,2257,2258,2259,2260,2261,2262,2263,2264,2265,2266,2267,2268,2269,2270,2271,2272,2273,2274,2275,2276,2277,2278,2279,2280,2281,2282,2283,2284,2285,2286,2287,2288,2289,2290,2291,2292,2293,2294,2295,2296,2297,2298,2299,2300,2301,2302,2303,2304,2305,2306,2307,2308,2309,2310,2311,2312,2313,2314,2315,2316,2317,2318,2319,2320,2321,2322,2323,2324,2325,2326,2327,2328,2329,2330,2331,2332,2333,2334,2335,2336,2337,2338,2339,2340,2341,2342,2343,2344,2345,2346,2347,2348,2349,2350,2351,2352,2353,2354,2355,2356,2357,2358,2359,2360,2361,2362,2363,2364,2365,2366,2367,2368,2369,2370,2371,2372,2373,2374,2375,2376,2377,2378,2379,2380,2381,2382,2383,2384,2385,2386,2387,2388,2389,2390,2391,2392,2393,2394,2395,2396,2397,2398,2399,2400,2401,2402,2403,2404,2405,2406,2407,2408,2409,2410,2411,2412,2413,2414,2415,2416,2417,2418,2419,2420,2421,2422,2423,2424,2425,2426,2427,2428,2429,2430,2431,2432,2433,2434,2435,2436,2437,2438,2439,2440,2441,2442,2443,2444,2445,2446,2447,2448,2449,2450,2451,2452,2453,2454,2455,2456,2457,2458,2459,2460,2461,2462,2463,2464,2465,2466,2467,2468,2469,2470,2471,2472,2473,2474,2475,2476,2477,2478,2479,2480,2481,2482,2483,2484,2485,2486,2487,2488,2489,2490,2491,2492,2493,2494,2495,2496,2497,2498,2499,2500,2501,2502,2503,2504,2505,2506,2507,2508,2509,2510,2511,2512,2513,2514,2515,2516,2517,2518,2519,2520,2521,2522,2523,2524,2525,2526,2527,2528,2529,2530,2531,2532,2533,2534,2535,2536,2537,2538,2539,"
     ]
    }
   ],
   "source": [
    "for counter, review in enumerate(max_sentences.iterrows()):\n",
    "    print(counter,end=',')\n",
    "    binarized_review = binarize(review[1][\"split\"])\n",
    "    texts_concat = binarized_review\n",
    "    labels_concat = np.repeat(review[1][\"label\"],len(binarized_review))\n",
    "    binarized_max_sentences = pd.DataFrame(texts_concat,columns=[\"text\"])\n",
    "    binarized_max_sentences[\"label\"] = labels_concat\n",
    "    binarized_max_sentences =binarized_max_sentences[[\"label\",\"text\"]]\n",
    "    os.mkdir(\"../../Data/imdb/{}\".format(counter))\n",
    "    binarized_max_sentences.to_csv(\"../../Data/imdb/{}/dev.tsv\".format(counter),sep=\"\\t\",index=False)"
   ]
  },
  {
   "cell_type": "code",
   "execution_count": 1034,
   "metadata": {},
   "outputs": [
    {
     "name": "stdout",
     "output_type": "stream",
     "text": [
      "900,901,902,903,904,905,906,907,908,909,910,911,912,913,914,915,916,917,918,919,920,921,922,923,924,925,926,927,928,929,930,931,932,933,934,935,936,937,938,939,940,941,942,943,944,945,946,947,948,949,950,951,952,953,954,955,956,957,958,959,960,961,962,963,964,965,966,967,968,969,970,971,972,973,974,975,976,977,978,979,980,981,982,983,984,985,986,987,988,989,990,991,992,993,994,995,996,997,998,999,CPU times: user 42.6 s, sys: 158 ms, total: 42.7 s\n",
      "Wall time: 42.7 s\n"
     ]
    }
   ],
   "source": [
    "%%time\n",
    "for number in range(900,1000):\n",
    "    print(number,end=\",\")\n",
    "    sentence_number = max_sentences[\"split\"].iloc[number]\n",
    "    prediction_number = max_sentences[\"predictions\"].iloc[number]\n",
    "    outputs_number = pd.read_csv(\"../Bert/bert-sentiment-IMDB/data/outputs/{}/predict_results.txt\".format(number),header=None)\n",
    "    banzhaf_number = calculate_values(outputs_number) \n",
    "    max_sentences[\"values\"].iloc[number] = banzhaf_number"
   ]
  },
  {
   "cell_type": "markdown",
   "metadata": {},
   "source": [
    "## Lime"
   ]
  },
  {
   "cell_type": "code",
   "execution_count": 1278,
   "metadata": {},
   "outputs": [],
   "source": [
    "max_sentences[\"lime_values\"] = None"
   ]
  },
  {
   "cell_type": "code",
   "execution_count": 12,
   "metadata": {},
   "outputs": [],
   "source": [
    "class Wrapper_for_lime():\n",
    "    def __init__(self, look_up_table, mainstring, binarized_instance=None):\n",
    "        self.look_up_table = look_up_table\n",
    "        self.mainstring = mainstring\n",
    "        self.binarized_instance = binarized_instance\n",
    "    \n",
    "    def find_number_of_substring(self,substring):\n",
    "        if \" \" in substring:\n",
    "            sub_seuqence = substring.split(\" \")\n",
    "        else:\n",
    "            sub_seuqence = []\n",
    "        sequence = self.mainstring.split(\" \")\n",
    "        number = 0\n",
    "        for position,word in enumerate(sub_seuqence):\n",
    "            if len(word) == len(sequence[position]):\n",
    "                number += 2**(position)\n",
    "        return number  \n",
    "    \n",
    "    def predict_proba(self, list_of_substrings):\n",
    "        result = np.zeros([len(list_of_substrings),2])\n",
    "        for i,substring in enumerate(list_of_substrings):\n",
    "            number = self.find_number_of_substring(substring)\n",
    "            result[i] = self.look_up_table[number]\n",
    "            if self.binarized_instance is not None:\n",
    "                print(number,\"###\", self.binarized_instance[number],\"####\",substring)\n",
    "        return result"
   ]
  },
  {
   "cell_type": "code",
   "execution_count": 5,
   "metadata": {},
   "outputs": [],
   "source": [
    "from lime.lime_text import LimeTextExplainer"
   ]
  },
  {
   "cell_type": "code",
   "execution_count": 1289,
   "metadata": {},
   "outputs": [
    {
     "name": "stdout",
     "output_type": "stream",
     "text": [
      "1000,1001,1002,1003,1004,1005,1006,1007,1008,1009,1010,1011,1012,1013,1014,1015,1016,1017,1018,1019,1020,1021,1022,1023,1024,1025,1026,1027,1028,1029,1030,1031,1032,1033,1034,1035,1036,1037,1038,1039,1040,1041,1042,1043,1044,1045,1046,1047,1048,1049,1050,1051,1052,1053,1054,1055,1056,1057,1058,1059,1060,1061,1062,1063,1064,1065,1066,1067,1068,1069,1070,1071,1072,1073,1074,1075,1076,1077,1078,1079,1080,1081,1082,1083,1084,1085,1086,1087,1088,1089,1090,1091,1092,1093,1094,1095,1096,1097,1098,1099,1100,1101,1102,1103,1104,1105,1106,1107,1108,1109,1110,1111,1112,1113,1114,1115,1116,1117,1118,1119,1120,1121,1122,1123,1124,1125,1126,1127,1128,1129,1130,1131,1132,1133,1134,1135,1136,1137,1138,1139,1140,1141,1142,1143,1144,1145,1146,1147,1148,1149,1150,1151,1152,1153,1154,1155,1156,1157,1158,1159,1160,1161,1162,1163,1164,1165,1166,1167,1168,1169,1170,1171,1172,1173,1174,1175,1176,1177,1178,1179,1180,1181,1182,1183,1184,1185,1186,1187,1188,1189,1190,1191,1192,1193,1194,1195,1196,1197,1198,1199,1200,1201,1202,1203,1204,1205,1206,1207,1208,1209,1210,1211,1212,1213,1214,1215,1216,1217,1218,1219,1220,1221,1222,1223,1224,1225,1226,1227,1228,1229,1230,1231,1232,1233,1234,1235,1236,1237,1238,1239,1240,1241,1242,1243,1244,1245,1246,1247,1248,1249,1250,1251,1252,1253,1254,1255,1256,1257,1258,1259,1260,1261,1262,1263,1264,1265,1266,1267,1268,1269,1270,1271,1272,1273,1274,1275,1276,1277,1278,1279,1280,1281,1282,1283,1284,1285,1286,1287,1288,1289,1290,1291,1292,1293,1294,1295,1296,1297,1298,1299,1300,1301,1302,1303,1304,1305,1306,1307,1308,1309,1310,1311,1312,1313,1314,1315,1316,1317,1318,1319,1320,1321,1322,1323,1324,1325,1326,1327,1328,1329,1330,1331,1332,1333,1334,1335,1336,1337,1338,1339,1340,1341,1342,1343,1344,1345,1346,1347,1348,1349,1350,1351,1352,1353,1354,1355,1356,1357,1358,1359,1360,1361,1362,1363,1364,1365,1366,1367,1368,1369,1370,1371,1372,1373,1374,1375,1376,1377,1378,1379,1380,1381,1382,1383,1384,1385,1386,1387,1388,1389,1390,1391,1392,1393,1394,1395,1396,1397,1398,1399,1400,1401,1402,1403,1404,1405,1406,1407,1408,1409,1410,1411,1412,1413,1414,1415,1416,1417,1418,1419,1420,1421,1422,1423,1424,1425,1426,1427,1428,1429,1430,1431,1432,1433,1434,1435,1436,1437,1438,1439,1440,1441,1442,1443,1444,1445,1446,1447,1448,1449,1450,1451,1452,1453,1454,1455,1456,1457,1458,1459,1460,1461,1462,1463,1464,1465,1466,1467,1468,1469,1470,1471,1472,1473,1474,1475,1476,1477,1478,1479,1480,1481,1482,1483,1484,1485,1486,1487,1488,1489,1490,1491,1492,1493,1494,1495,1496,1497,1498,1499,1500,1501,1502,1503,1504,1505,1506,1507,1508,1509,1510,1511,1512,1513,1514,1515,1516,1517,1518,1519,1520,1521,1522,1523,1524,1525,1526,1527,1528,1529,1530,1531,1532,1533,1534,1535,1536,1537,1538,1539,1540,1541,1542,1543,1544,1545,1546,1547,1548,1549,1550,1551,1552,1553,1554,1555,1556,1557,1558,1559,1560,1561,1562,1563,1564,1565,1566,1567,1568,1569,1570,1571,1572,1573,1574,1575,1576,1577,1578,1579,1580,1581,1582,1583,1584,1585,1586,1587,1588,1589,1590,1591,1592,1593,1594,1595,1596,1597,1598,1599,1600,1601,1602,1603,1604,1605,1606,1607,1608,1609,1610,1611,1612,1613,1614,1615,1616,1617,1618,1619,1620,1621,1622,1623,1624,1625,1626,1627,1628,1629,1630,1631,1632,1633,1634,1635,1636,1637,1638,1639,1640,1641,1642,1643,1644,1645,1646,1647,1648,1649,1650,1651,1652,1653,1654,1655,1656,1657,1658,1659,1660,1661,1662,1663,1664,1665,1666,1667,1668,1669,1670,1671,1672,1673,1674,1675,1676,1677,1678,1679,1680,1681,1682,1683,1684,1685,1686,1687,1688,1689,1690,1691,1692,1693,1694,1695,1696,1697,1698,1699,1700,1701,1702,1703,1704,1705,1706,1707,1708,1709,1710,1711,1712,1713,1714,1715,1716,1717,1718,1719,1720,1721,1722,1723,1724,1725,1726,1727,1728,1729,1730,1731,1732,1733,1734,1735,1736,1737,1738,1739,1740,1741,1742,1743,1744,1745,1746,1747,1748,1749,1750,1751,1752,1753,1754,1755,1756,1757,1758,1759,1760,1761,1762,1763,1764,1765,1766,1767,1768,1769,1770,1771,1772,1773,1774,1775,1776,1777,1778,1779,1780,1781,1782,1783,1784,1785,1786,1787,1788,1789,1790,1791,1792,1793,1794,1795,1796,1797,1798,1799,1800,1801,1802,1803,1804,1805,1806,1807,1808,1809,1810,1811,1812,1813,1814,1815,1816,1817,1818,1819,1820,1821,1822,1823,1824,1825,1826,1827,1828,1829,1830,1831,1832,1833,1834,1835,1836,1837,1838,1839,1840,1841,1842,1843,1844,1845,1846,1847,1848,1849,1850,1851,1852,1853,1854,1855,1856,1857,1858,1859,1860,1861,1862,1863,1864,1865,1866,1867,1868,1869,1870,1871,1872,1873,1874,1875,1876,1877,1878,1879,1880,1881,1882,1883,1884,1885,1886,1887,1888,1889,1890,1891,1892,1893,1894,1895,1896,1897,1898,1899,1900,1901,1902,1903,1904,1905,1906,1907,1908,1909,1910,1911,1912,1913,1914,1915,1916,1917,1918,1919,1920,1921,1922,1923,1924,1925,1926,1927,1928,1929,1930,1931,1932,1933,1934,1935,1936,1937,1938,1939,1940,1941,1942,1943,1944,1945,1946,1947,1948,1949,1950,1951,1952,1953,1954,1955,1956,1957,1958,1959,1960,1961,1962,1963,1964,1965,1966,1967,1968,1969,1970,1971,1972,1973,1974,1975,1976,1977,1978,1979,1980,1981,1982,1983,1984,1985,1986,1987,1988,1989,1990,1991,1992,1993,1994,1995,1996,1997,1998,1999,CPU times: user 31min 42s, sys: 1h 32min 14s, total: 2h 3min 57s\n",
      "Wall time: 4min 52s\n"
     ]
    }
   ],
   "source": [
    "%%time\n",
    "warnings.filterwarnings('ignore')\n",
    "explainer = LimeTextExplainer(class_names=[\"0\",\"1\"],split_expression=\" \")\n",
    "for number in range(1000,2000):\n",
    "    print(number, end=\",\")\n",
    "    outputs_number = pd.read_csv(\"../Bert/bert-sentiment-IMDB/data/outputs/{}/predict_results.txt\".format(number),header=None)\n",
    "    lookup_table = np.asarray(outputs_number)\n",
    "    instance = max_sentences[\"text\"].iloc[number]\n",
    "    #binarized_instance = binarize(instance.split(\" \"))\n",
    "    wrapper_for_lime_number = Wrapper_for_lime(lookup_table, instance)\n",
    "    exp = explainer.explain_instance(instance, wrapper_for_lime_number.predict_proba, num_features=int(np.log2(len(lookup_table))))\n",
    "    lime_values = np.zeros(len(max_sentences[\"split\"].iloc[number]))\n",
    "    for (word,value) in exp.as_list():\n",
    "        indices = [i for i, x in enumerate(max_sentences[\"split\"].iloc[number]) if x == word]\n",
    "        for index in indices:\n",
    "            lime_values[index] = value\n",
    "    max_sentences[\"lime_values\"].iloc[number] = lime_values"
   ]
  },
  {
   "cell_type": "code",
   "execution_count": 1385,
   "metadata": {},
   "outputs": [],
   "source": [
    "max_sentences.to_pickle(\"max_sentences.pkl\")"
   ]
  }
 ],
 "metadata": {
  "kernelspec": {
   "display_name": "BII2",
   "language": "python",
   "name": "bii2"
  },
  "language_info": {
   "codemirror_mode": {
    "name": "ipython",
    "version": 3
   },
   "file_extension": ".py",
   "mimetype": "text/x-python",
   "name": "python",
   "nbconvert_exporter": "python",
   "pygments_lexer": "ipython3",
   "version": "3.6.12"
  }
 },
 "nbformat": 4,
 "nbformat_minor": 4
}
